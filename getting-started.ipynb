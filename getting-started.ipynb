{
 "cells": [
  {
   "cell_type": "markdown",
   "metadata": {},
   "source": [
    "# HICSS 2024: A Restriction Wrapper for Multi-Agent RL Libraries"
   ]
  },
  {
   "attachments": {},
   "cell_type": "markdown",
   "metadata": {},
   "source": [
    "This notebook demonstrates the basic functionality of the restriction wrapper described in _M. Oesterle and T. Grams (2024): A Restriction Wrapper for Multi-Agent RL Libraries_. More detailed examples for both _PettingZoo_ and _RLlib_ wrappers can be found in the respective notebooks at `./examples/`."
   ]
  },
  {
   "cell_type": "code",
   "execution_count": null,
   "outputs": [],
   "source": [],
   "metadata": {
    "collapsed": false
   }
  }
 ],
 "metadata": {
  "kernelspec": {
   "display_name": "Python 3.9.4 ('.venv': venv)",
   "language": "python",
   "name": "python3"
  },
  "language_info": {
   "codemirror_mode": {
    "name": "ipython",
    "version": 3
   },
   "file_extension": ".py",
   "mimetype": "text/x-python",
   "name": "python",
   "nbconvert_exporter": "python",
   "pygments_lexer": "ipython3",
   "version": "3.9.16"
  },
  "orig_nbformat": 4,
  "vscode": {
   "interpreter": {
    "hash": "6519815336a68311723c88fa17f06eeb3562085e823e45e5cc24f841b139f472"
   }
  }
 },
 "nbformat": 4,
 "nbformat_minor": 2
}
