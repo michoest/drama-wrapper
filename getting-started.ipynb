{
 "cells": [
  {
   "cell_type": "markdown",
   "metadata": {},
   "source": [
    "# HICSS 2024: A Restriction Wrapper for Multi-Agent RL Libraries"
   ]
  },
  {
   "attachments": {},
   "cell_type": "markdown",
   "metadata": {},
   "source": [
    "This notebook demonstrates the basic functionality of the restriction wrapper described in _M. Oesterle and T. Grams (2024): A Restriction Wrapper for Multi-Agent RL Libraries_. More detailed examples for both _PettingZoo_ and _RLlib_ wrappers can be found in the respective notebooks at `./examples/`."
   ]
  },
  {
   "cell_type": "code",
   "execution_count": 1,
   "metadata": {},
   "outputs": [],
   "source": [
    "from src.utils import test_environment\n",
    "from examples.envs.rllib import DummyEnvironment"
   ]
  },
  {
   "cell_type": "code",
   "execution_count": 2,
   "metadata": {},
   "outputs": [
    {
     "name": "stdout",
     "output_type": "stream",
     "text": [
      "Testing <class 'examples.envs.rllib.DummyEnvironment'>...\n",
      "Reset: {'0': array([0.19446187, 0.33879334], dtype=float32), '1': array([0.04443369, 0.9029297 ], dtype=float32)}\n",
      "Actions: {'0': 1, '1': 0}\n",
      "Step:  {'0': array([0.14841695, 0.0936696 ], dtype=float32), '1': array([0.62695646, 0.13435353], dtype=float32)}, {'0': 0.241476638264979, '1': 0.7079546031007848}, {'__all__': False}\n",
      "Actions: {'0': 0, '1': 0}\n",
      "Step:  {'0': array([0.90185905, 0.2663394 ], dtype=float32), '1': array([0.3961667 , 0.01047942], dtype=float32)}, {'0': 0.9989765254186834, '1': 0.12687284776423868}, {'__all__': False}\n",
      "Actions: {'0': 0, '1': 2}\n",
      "Step:  {'0': array([0.9589378, 0.9024878], dtype=float32), '1': array([0.182821 , 0.0940948], dtype=float32)}, {'0': 0.4495709708789719, '1': 0.8787147245115562}, {'__all__': False}\n",
      "Actions: {'0': 2, '1': 2}\n",
      "Step:  {'0': array([0.26544398, 0.7768176 ], dtype=float32), '1': array([0.16942886, 0.21606648], dtype=float32)}, {'0': 0.4757041131230887, '1': 0.8706940755305589}, {'__all__': False}\n",
      "Actions: {'0': 1, '1': 0}\n",
      "Step:  {'0': array([0.7594083 , 0.23288268], dtype=float32), '1': array([0.97185934, 0.4847605 ], dtype=float32)}, {'0': 0.6901711280391698, '1': 0.22489756442021547}, {'__all__': True}\n",
      "Reset: {'0': array([0.57654876, 0.91984177], dtype=float32), '1': array([0.35386997, 0.35788032], dtype=float32)}\n",
      "Actions: {'0': 0, '1': 0}\n",
      "Step:  {'0': array([0.4670661 , 0.11949474], dtype=float32), '1': array([0.9260129 , 0.02420978], dtype=float32)}, {'0': 0.795012701186075, '1': 0.6683286473709427}, {'__all__': False}\n",
      "Actions: {'0': 0, '1': 1}\n",
      "Step:  {'0': array([0.73441166, 0.5547509 ], dtype=float32), '1': array([0.7252396 , 0.47222447], dtype=float32)}, {'0': 0.1444849393929334, '1': 0.7045754982978742}, {'__all__': False}\n",
      "Actions: {'0': 0, '1': 0}\n",
      "Step:  {'0': array([0.92254955, 0.7335242 ], dtype=float32), '1': array([0.2342573 , 0.76907444], dtype=float32)}, {'0': 0.3887433714208137, '1': 0.08379907709395018}, {'__all__': False}\n",
      "Actions: {'0': 1, '1': 0}\n",
      "Step:  {'0': array([0.45952296, 0.48788762], dtype=float32), '1': array([0.8800551 , 0.23938681], dtype=float32)}, {'0': 0.11720483973886986, '1': 0.41774493068360996}, {'__all__': False}\n",
      "Actions: {'0': 2, '1': 1}\n",
      "Step:  {'0': array([0.23666725, 0.6994188 ], dtype=float32), '1': array([0.06815431, 0.12027807], dtype=float32)}, {'0': 0.3253940861759602, '1': 0.2838941278326289}, {'__all__': True}\n",
      "Reset: {'0': array([0.18953861, 0.7077201 ], dtype=float32), '1': array([0.9384427, 0.6591415], dtype=float32)}\n",
      "Actions: {'0': 1, '1': 0}\n",
      "Step:  {'0': array([0.3194376 , 0.36940768], dtype=float32), '1': array([0.6101839, 0.8198296], dtype=float32)}, {'0': 0.34702474858343124, '1': 0.30363899740116584}, {'__all__': False}\n",
      "Actions: {'0': 1, '1': 1}\n",
      "Step:  {'0': array([0.41110897, 0.40608463], dtype=float32), '1': array([0.22523378, 0.4872326 ], dtype=float32)}, {'0': 0.8981111214228048, '1': 0.5985882219291986}, {'__all__': False}\n",
      "Actions: {'0': 1, '1': 1}\n",
      "Step:  {'0': array([0.94278854, 0.43240884], dtype=float32), '1': array([0.03256888, 0.74628556], dtype=float32)}, {'0': 0.034234184978002125, '1': 0.47755200509061857}, {'__all__': False}\n",
      "Actions: {'0': 2, '1': 0}\n",
      "Step:  {'0': array([0.1562427, 0.9958847], dtype=float32), '1': array([0.64274347, 0.7457729 ], dtype=float32)}, {'0': 0.8724219616446953, '1': 0.7295882758920559}, {'__all__': False}\n",
      "Actions: {'0': 0, '1': 1}\n",
      "Step:  {'0': array([0.49496043, 0.6167086 ], dtype=float32), '1': array([0.18482359, 0.15546604], dtype=float32)}, {'0': 0.3653408435209975, '1': 0.17721715289169448}, {'__all__': True}\n",
      "Reset: {'0': array([0.57737154, 0.31726983], dtype=float32), '1': array([0.5254992, 0.9614445], dtype=float32)}\n",
      "Actions: {'0': 1, '1': 0}\n",
      "Step:  {'0': array([0.42870373, 0.54049563], dtype=float32), '1': array([0.35994568, 0.04993992], dtype=float32)}, {'0': 0.9664012205256431, '1': 0.43906824339024586}, {'__all__': False}\n",
      "Actions: {'0': 2, '1': 0}\n",
      "Step:  {'0': array([0.3039318 , 0.02094522], dtype=float32), '1': array([0.05582177, 0.14205596], dtype=float32)}, {'0': 0.8092684737595537, '1': 0.34118383371448524}, {'__all__': False}\n",
      "Actions: {'0': 2, '1': 2}\n",
      "Step:  {'0': array([0.8326622 , 0.02241853], dtype=float32), '1': array([0.5760669 , 0.11511582], dtype=float32)}, {'0': 0.2133125847902373, '1': 0.9954728813960193}, {'__all__': False}\n",
      "Actions: {'0': 0, '1': 0}\n",
      "Step:  {'0': array([0.37089756, 0.627269  ], dtype=float32), '1': array([0.09245125, 0.6882932 ], dtype=float32)}, {'0': 0.01872396324241743, '1': 0.7461669110034711}, {'__all__': False}\n",
      "Actions: {'0': 2, '1': 0}\n",
      "Step:  {'0': array([0.66538143, 0.47855654], dtype=float32), '1': array([0.7488491, 0.7878916], dtype=float32)}, {'0': 0.9660995823323462, '1': 0.44417808694350136}, {'__all__': True}\n",
      "Reset: {'0': array([0.33597994, 0.34572908], dtype=float32), '1': array([0.65501046, 0.7923154 ], dtype=float32)}\n",
      "Test finished!\n"
     ]
    }
   ],
   "source": [
    "test_environment(DummyEnvironment)"
   ]
  },
  {
   "cell_type": "code",
   "execution_count": null,
   "outputs": [],
   "source": [],
   "metadata": {
    "collapsed": false
   }
  }
 ],
 "metadata": {
  "kernelspec": {
   "display_name": "Python 3.9.4 ('.venv': venv)",
   "language": "python",
   "name": "python3"
  },
  "language_info": {
   "codemirror_mode": {
    "name": "ipython",
    "version": 3
   },
   "file_extension": ".py",
   "mimetype": "text/x-python",
   "name": "python",
   "nbconvert_exporter": "python",
   "pygments_lexer": "ipython3",
   "version": "3.9.16"
  },
  "orig_nbformat": 4,
  "vscode": {
   "interpreter": {
    "hash": "6519815336a68311723c88fa17f06eeb3562085e823e45e5cc24f841b139f472"
   }
  }
 },
 "nbformat": 4,
 "nbformat_minor": 2
}
