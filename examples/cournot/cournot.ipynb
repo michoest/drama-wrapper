{
 "cells": [
  {
   "attachments": {},
   "cell_type": "markdown",
   "metadata": {},
   "source": [
    "# Application: Learning optimal restrictions in a continuous-action game"
   ]
  },
  {
   "attachments": {},
   "cell_type": "markdown",
   "metadata": {},
   "source": [
    "This notebook corresponds to Section 5.1 of the paper \"Grams & Oesterle (forthcoming). _DRAMA at the PettingZoo: Dynamically Restricted Action Spaces for Multi-Agent Reinforcement Learning Frameworks_.\""
   ]
  },
  {
   "attachments": {},
   "cell_type": "markdown",
   "metadata": {},
   "source": [
    "## Setup"
   ]
  },
  {
   "cell_type": "code",
   "execution_count": 27,
   "metadata": {},
   "outputs": [
    {
     "name": "stdout",
     "output_type": "stream",
     "text": [
      "The autoreload extension is already loaded. To reload it, use:\n",
      "  %reload_ext autoreload\n"
     ]
    }
   ],
   "source": [
    "%load_ext autoreload\n",
    "%autoreload 2"
   ]
  },
  {
   "cell_type": "code",
   "execution_count": 28,
   "metadata": {},
   "outputs": [],
   "source": [
    "import os, sys\n",
    "sys.path.append(f'{os.getcwd()}/../../')"
   ]
  },
  {
   "cell_type": "code",
   "execution_count": 29,
   "metadata": {},
   "outputs": [],
   "source": [
    "from gymnasium.spaces import Box\n",
    "import matplotlib\n",
    "\n",
    "from src.wrapper import RestrictionWrapper\n",
    "from src.restrictors import IntervalUnionActionSpace\n",
    "\n",
    "from examples.utils import play\n",
    "from examples.cournot.utils.env import NFGEnvironment\n",
    "from examples.cournot.utils.agents import UnrestrictedCournotAgent, RestrictedCournotAgent\n",
    "from examples.cournot.utils.restrictor import CournotRestrictor"
   ]
  },
  {
   "attachments": {},
   "cell_type": "markdown",
   "metadata": {},
   "source": [
    "## Definition of the Cournot Game"
   ]
  },
  {
   "cell_type": "code",
   "execution_count": 49,
   "metadata": {},
   "outputs": [],
   "source": [
    "maximum_price = 120\n",
    "cost = 12\n",
    "\n",
    "price_space = Box(0, maximum_price)\n",
    "observation_spaces = {'player_0': price_space, 'player_1': price_space}\n",
    "action_spaces = {'player_0': price_space, 'player_1': price_space}\n",
    "utilities = {\n",
    "    'player_0': (lambda actions: -actions['player_0'] ** 2 - actions['player_0'] * actions['player_1'] + (maximum_price - cost) * actions['player_0']), \n",
    "    'player_1': (lambda actions: -actions['player_1'] ** 2 - actions['player_0'] * actions['player_1'] + (maximum_price - cost) * actions['player_1'])}\n",
    "\n",
    "env = NFGEnvironment(observation_spaces, action_spaces, utilities, number_of_steps=100, render_mode='human')"
   ]
  },
  {
   "attachments": {},
   "cell_type": "markdown",
   "metadata": {},
   "source": [
    "## Test: Play without restrictions"
   ]
  },
  {
   "cell_type": "code",
   "execution_count": 50,
   "metadata": {},
   "outputs": [],
   "source": [
    "policies = {'player_0': UnrestrictedCournotAgent(maximum_price, cost).act, 'player_1': UnrestrictedCournotAgent(maximum_price, cost).act}\n",
    "trajectory = play(env, policies, max_iter=100, render_mode=None, record_trajectory=True)"
   ]
  },
  {
   "cell_type": "code",
   "execution_count": 51,
   "metadata": {},
   "outputs": [
    {
     "data": {
      "text/plain": [
       "agent\n",
       "player_0    Axes(0.125,0.11;0.775x0.77)\n",
       "player_1    Axes(0.125,0.11;0.775x0.77)\n",
       "Name: reward, dtype: object"
      ]
     },
     "execution_count": 51,
     "metadata": {},
     "output_type": "execute_result"
    },
    {
     "data": {
      "image/png": "[encoded data removed]",
      "text/plain": [
       "<Figure size 640x480 with 1 Axes>"
      ]
     },
     "metadata": {},
     "output_type": "display_data"
    }
   ],
   "source": [
    "trajectory.groupby('agent')['reward'].plot()"
   ]
  },
  {
   "attachments": {},
   "cell_type": "markdown",
   "metadata": {},
   "source": [
    "## Self-learning restrictions"
   ]
  },
  {
   "attachments": {},
   "cell_type": "markdown",
   "metadata": {},
   "source": [
    "When we run the environment with the `CournotRestrictor`, we see that it observes the agents and waits until their strategies converge. At this point the restrictor estimates the environment parameters (more concretely, the parameter `lambda := maximum_price - cost`) from the observed agent actions, and defines a suitable restriction. The agents then react to the restriction by changing their strategies. Eventually, the restriction gives a reward increase by approximately 12.5%."
   ]
  },
  {
   "cell_type": "code",
   "execution_count": 65,
   "metadata": {},
   "outputs": [],
   "source": [
    "agents = [RestrictedCournotAgent(maximum_price, cost), RestrictedCournotAgent(maximum_price, cost)]\n",
    "restrictor = CournotRestrictor(Box(0, maximum_price, shape=(2, )), IntervalUnionActionSpace(Box(0, maximum_price)))\n",
    "wrapper = RestrictionWrapper(env, restrictor)\n",
    "\n",
    "# Use restrictor for all agents uniformly\n",
    "policies = {'player_0': agents[0].act, 'player_1': agents[1].act, 'restrictor_0': restrictor.act}\n",
    "\n",
    "# Run wrapped environment for 100 iterations\n",
    "trajectory = play(wrapper, policies, max_iter=100, render_mode=None, record_trajectory=True)"
   ]
  },
  {
   "cell_type": "code",
   "execution_count": 66,
   "metadata": {},
   "outputs": [
    {
     "data": {
      "text/html": [
       "<div>\n",
       "<style scoped>\n",
       "    .dataframe tbody tr th:only-of-type {\n",
       "        vertical-align: middle;\n",
       "    }\n",
       "\n",
       "    .dataframe tbody tr th {\n",
       "        vertical-align: top;\n",
       "    }\n",
       "\n",
       "    .dataframe thead th {\n",
       "        text-align: right;\n",
       "    }\n",
       "</style>\n",
       "<table border=\"1\" class=\"dataframe\">\n",
       "  <thead>\n",
       "    <tr style=\"text-align: right;\">\n",
       "      <th></th>\n",
       "      <th>agent</th>\n",
       "      <th>observation</th>\n",
       "      <th>reward</th>\n",
       "      <th>termination</th>\n",
       "      <th>truncation</th>\n",
       "      <th>info</th>\n",
       "      <th>action</th>\n",
       "    </tr>\n",
       "  </thead>\n",
       "  <tbody>\n",
       "    <tr>\n",
       "      <th>0</th>\n",
       "      <td>restrictor_0</td>\n",
       "      <td>[nan, nan]</td>\n",
       "      <td>0.000000</td>\n",
       "      <td>False</td>\n",
       "      <td>False</td>\n",
       "      <td>{}</td>\n",
       "      <td>IntervalUnionRestriction([(0.0, 26.99992063562...</td>\n",
       "    </tr>\n",
       "    <tr>\n",
       "      <th>1</th>\n",
       "      <td>player_0</td>\n",
       "      <td>{'observation': [None], 'restriction': Interva...</td>\n",
       "      <td>0.000000</td>\n",
       "      <td>False</td>\n",
       "      <td>False</td>\n",
       "      <td>{}</td>\n",
       "      <td>8.260142</td>\n",
       "    </tr>\n",
       "    <tr>\n",
       "      <th>2</th>\n",
       "      <td>restrictor_0</td>\n",
       "      <td>[8.260141942682125, nan]</td>\n",
       "      <td>0.000000</td>\n",
       "      <td>False</td>\n",
       "      <td>False</td>\n",
       "      <td>{}</td>\n",
       "      <td>IntervalUnionRestriction([(0.0, 26.99992063562...</td>\n",
       "    </tr>\n",
       "    <tr>\n",
       "      <th>3</th>\n",
       "      <td>player_1</td>\n",
       "      <td>{'observation': [8.260141942682125], 'restrict...</td>\n",
       "      <td>0.000000</td>\n",
       "      <td>False</td>\n",
       "      <td>False</td>\n",
       "      <td>{}</td>\n",
       "      <td>49.869929</td>\n",
       "    </tr>\n",
       "    <tr>\n",
       "      <th>4</th>\n",
       "      <td>restrictor_0</td>\n",
       "      <td>[8.260141942682125, 49.86992902865894]</td>\n",
       "      <td>0.000000</td>\n",
       "      <td>False</td>\n",
       "      <td>False</td>\n",
       "      <td>{}</td>\n",
       "      <td>IntervalUnionRestriction([(0.0, 26.99992063562...</td>\n",
       "    </tr>\n",
       "    <tr>\n",
       "      <th>5</th>\n",
       "      <td>player_0</td>\n",
       "      <td>{'observation': [49.86992902865894], 'restrict...</td>\n",
       "      <td>411.932692</td>\n",
       "      <td>False</td>\n",
       "      <td>False</td>\n",
       "      <td>{}</td>\n",
       "      <td>29.065035</td>\n",
       "    </tr>\n",
       "    <tr>\n",
       "      <th>6</th>\n",
       "      <td>restrictor_0</td>\n",
       "      <td>[29.06503548567053, nan]</td>\n",
       "      <td>8696.827541</td>\n",
       "      <td>False</td>\n",
       "      <td>False</td>\n",
       "      <td>{}</td>\n",
       "      <td>IntervalUnionRestriction([(0.0, 26.99992063562...</td>\n",
       "    </tr>\n",
       "    <tr>\n",
       "      <th>7</th>\n",
       "      <td>player_1</td>\n",
       "      <td>{'observation': [29.06503548567053], 'restrict...</td>\n",
       "      <td>2487.009821</td>\n",
       "      <td>False</td>\n",
       "      <td>False</td>\n",
       "      <td>{}</td>\n",
       "      <td>39.467482</td>\n",
       "    </tr>\n",
       "    <tr>\n",
       "      <th>8</th>\n",
       "      <td>restrictor_0</td>\n",
       "      <td>[29.06503548567053, 39.46748225716473]</td>\n",
       "      <td>2487.009821</td>\n",
       "      <td>False</td>\n",
       "      <td>False</td>\n",
       "      <td>{}</td>\n",
       "      <td>IntervalUnionRestriction([(0.0, 26.99992063562...</td>\n",
       "    </tr>\n",
       "    <tr>\n",
       "      <th>9</th>\n",
       "      <td>player_0</td>\n",
       "      <td>{'observation': [39.46748225716473], 'restrict...</td>\n",
       "      <td>1147.123772</td>\n",
       "      <td>False</td>\n",
       "      <td>False</td>\n",
       "      <td>{}</td>\n",
       "      <td>34.266259</td>\n",
       "    </tr>\n",
       "    <tr>\n",
       "      <th>10</th>\n",
       "      <td>restrictor_0</td>\n",
       "      <td>[34.266258871417634, nan]</td>\n",
       "      <td>8114.417784</td>\n",
       "      <td>False</td>\n",
       "      <td>False</td>\n",
       "      <td>{}</td>\n",
       "      <td>IntervalUnionRestriction([(0.0, 26.99992063562...</td>\n",
       "    </tr>\n",
       "    <tr>\n",
       "      <th>11</th>\n",
       "      <td>player_1</td>\n",
       "      <td>{'observation': [34.266258871417634], 'restric...</td>\n",
       "      <td>1557.682156</td>\n",
       "      <td>False</td>\n",
       "      <td>False</td>\n",
       "      <td>{}</td>\n",
       "      <td>36.866871</td>\n",
       "    </tr>\n",
       "    <tr>\n",
       "      <th>12</th>\n",
       "      <td>restrictor_0</td>\n",
       "      <td>[34.266258871417634, 36.86687056429118]</td>\n",
       "      <td>1557.682156</td>\n",
       "      <td>False</td>\n",
       "      <td>False</td>\n",
       "      <td>{}</td>\n",
       "      <td>IntervalUnionRestriction([(0.0, 26.99992063562...</td>\n",
       "    </tr>\n",
       "    <tr>\n",
       "      <th>13</th>\n",
       "      <td>player_0</td>\n",
       "      <td>{'observation': [36.86687056429118], 'restrict...</td>\n",
       "      <td>1263.289731</td>\n",
       "      <td>False</td>\n",
       "      <td>False</td>\n",
       "      <td>{}</td>\n",
       "      <td>35.566565</td>\n",
       "    </tr>\n",
       "    <tr>\n",
       "      <th>14</th>\n",
       "      <td>restrictor_0</td>\n",
       "      <td>[35.566564717854405, nan]</td>\n",
       "      <td>7867.367627</td>\n",
       "      <td>False</td>\n",
       "      <td>False</td>\n",
       "      <td>{}</td>\n",
       "      <td>IntervalUnionRestriction([(0.0, 26.99992063562...</td>\n",
       "    </tr>\n",
       "    <tr>\n",
       "      <th>15</th>\n",
       "      <td>player_1</td>\n",
       "      <td>{'observation': [35.566564717854405], 'restric...</td>\n",
       "      <td>1359.166145</td>\n",
       "      <td>False</td>\n",
       "      <td>False</td>\n",
       "      <td>{}</td>\n",
       "      <td>36.216718</td>\n",
       "    </tr>\n",
       "    <tr>\n",
       "      <th>16</th>\n",
       "      <td>restrictor_0</td>\n",
       "      <td>[35.566564717854405, 36.2167176410728]</td>\n",
       "      <td>1359.166145</td>\n",
       "      <td>False</td>\n",
       "      <td>False</td>\n",
       "      <td>{}</td>\n",
       "      <td>IntervalUnionRestriction([(0.0, 26.99992063562...</td>\n",
       "    </tr>\n",
       "    <tr>\n",
       "      <th>17</th>\n",
       "      <td>player_0</td>\n",
       "      <td>{'observation': [36.2167176410728], 'restricti...</td>\n",
       "      <td>1288.104232</td>\n",
       "      <td>False</td>\n",
       "      <td>False</td>\n",
       "      <td>{}</td>\n",
       "      <td>35.891641</td>\n",
       "    </tr>\n",
       "    <tr>\n",
       "      <th>18</th>\n",
       "      <td>restrictor_0</td>\n",
       "      <td>[35.891641179463605, nan]</td>\n",
       "      <td>7799.264606</td>\n",
       "      <td>False</td>\n",
       "      <td>False</td>\n",
       "      <td>{}</td>\n",
       "      <td>IntervalUnionRestriction([(0.0, 26.99992063562...</td>\n",
       "    </tr>\n",
       "    <tr>\n",
       "      <th>19</th>\n",
       "      <td>player_1</td>\n",
       "      <td>{'observation': [35.891641179463605], 'restric...</td>\n",
       "      <td>1311.650637</td>\n",
       "      <td>False</td>\n",
       "      <td>False</td>\n",
       "      <td>{}</td>\n",
       "      <td>36.054179</td>\n",
       "    </tr>\n",
       "  </tbody>\n",
       "</table>\n",
       "</div>"
      ],
      "text/plain": [
       "           agent                                        observation  \\\n",
       "0   restrictor_0                                         [nan, nan]   \n",
       "1       player_0  {'observation': [None], 'restriction': Interva...   \n",
       "2   restrictor_0                           [8.260141942682125, nan]   \n",
       "3       player_1  {'observation': [8.260141942682125], 'restrict...   \n",
       "4   restrictor_0             [8.260141942682125, 49.86992902865894]   \n",
       "5       player_0  {'observation': [49.86992902865894], 'restrict...   \n",
       "6   restrictor_0                           [29.06503548567053, nan]   \n",
       "7       player_1  {'observation': [29.06503548567053], 'restrict...   \n",
       "8   restrictor_0             [29.06503548567053, 39.46748225716473]   \n",
       "9       player_0  {'observation': [39.46748225716473], 'restrict...   \n",
       "10  restrictor_0                          [34.266258871417634, nan]   \n",
       "11      player_1  {'observation': [34.266258871417634], 'restric...   \n",
       "12  restrictor_0            [34.266258871417634, 36.86687056429118]   \n",
       "13      player_0  {'observation': [36.86687056429118], 'restrict...   \n",
       "14  restrictor_0                          [35.566564717854405, nan]   \n",
       "15      player_1  {'observation': [35.566564717854405], 'restric...   \n",
       "16  restrictor_0             [35.566564717854405, 36.2167176410728]   \n",
       "17      player_0  {'observation': [36.2167176410728], 'restricti...   \n",
       "18  restrictor_0                          [35.891641179463605, nan]   \n",
       "19      player_1  {'observation': [35.891641179463605], 'restric...   \n",
       "\n",
       "         reward  termination  truncation info  \\\n",
       "0      0.000000        False       False   {}   \n",
       "1      0.000000        False       False   {}   \n",
       "2      0.000000        False       False   {}   \n",
       "3      0.000000        False       False   {}   \n",
       "4      0.000000        False       False   {}   \n",
       "5    411.932692        False       False   {}   \n",
       "6   8696.827541        False       False   {}   \n",
       "7   2487.009821        False       False   {}   \n",
       "8   2487.009821        False       False   {}   \n",
       "9   1147.123772        False       False   {}   \n",
       "10  8114.417784        False       False   {}   \n",
       "11  1557.682156        False       False   {}   \n",
       "12  1557.682156        False       False   {}   \n",
       "13  1263.289731        False       False   {}   \n",
       "14  7867.367627        False       False   {}   \n",
       "15  1359.166145        False       False   {}   \n",
       "16  1359.166145        False       False   {}   \n",
       "17  1288.104232        False       False   {}   \n",
       "18  7799.264606        False       False   {}   \n",
       "19  1311.650637        False       False   {}   \n",
       "\n",
       "                                               action  \n",
       "0   IntervalUnionRestriction([(0.0, 26.99992063562...  \n",
       "1                                            8.260142  \n",
       "2   IntervalUnionRestriction([(0.0, 26.99992063562...  \n",
       "3                                           49.869929  \n",
       "4   IntervalUnionRestriction([(0.0, 26.99992063562...  \n",
       "5                                           29.065035  \n",
       "6   IntervalUnionRestriction([(0.0, 26.99992063562...  \n",
       "7                                           39.467482  \n",
       "8   IntervalUnionRestriction([(0.0, 26.99992063562...  \n",
       "9                                           34.266259  \n",
       "10  IntervalUnionRestriction([(0.0, 26.99992063562...  \n",
       "11                                          36.866871  \n",
       "12  IntervalUnionRestriction([(0.0, 26.99992063562...  \n",
       "13                                          35.566565  \n",
       "14  IntervalUnionRestriction([(0.0, 26.99992063562...  \n",
       "15                                          36.216718  \n",
       "16  IntervalUnionRestriction([(0.0, 26.99992063562...  \n",
       "17                                          35.891641  \n",
       "18  IntervalUnionRestriction([(0.0, 26.99992063562...  \n",
       "19                                          36.054179  "
      ]
     },
     "execution_count": 66,
     "metadata": {},
     "output_type": "execute_result"
    }
   ],
   "source": [
    "trajectory.head(20)"
   ]
  },
  {
   "cell_type": "code",
   "execution_count": 67,
   "metadata": {},
   "outputs": [
    {
     "data": {
      "text/plain": [
       "agent\n",
       "player_0        Axes(0.125,0.11;0.775x0.77)\n",
       "player_1        Axes(0.125,0.11;0.775x0.77)\n",
       "restrictor_0    Axes(0.125,0.11;0.775x0.77)\n",
       "Name: reward, dtype: object"
      ]
     },
     "execution_count": 67,
     "metadata": {},
     "output_type": "execute_result"
    },
    {
     "data": {
      "image/png": "[encoded data removed]",
      "text/plain": [
       "<Figure size 640x480 with 1 Axes>"
      ]
     },
     "metadata": {},
     "output_type": "display_data"
    }
   ],
   "source": [
    "trajectory.groupby('agent')['reward'].plot()"
   ]
  }
 ],
 "metadata": {
  "kernelspec": {
   "display_name": ".venv",
   "language": "python",
   "name": "python3"
  },
  "language_info": {
   "codemirror_mode": {
    "name": "ipython",
    "version": 3
   },
   "file_extension": ".py",
   "mimetype": "text/x-python",
   "name": "python",
   "nbconvert_exporter": "python",
   "pygments_lexer": "ipython3",
   "version": "3.11.3"
  },
  "orig_nbformat": 4
 },
 "nbformat": 4,
 "nbformat_minor": 2
}
