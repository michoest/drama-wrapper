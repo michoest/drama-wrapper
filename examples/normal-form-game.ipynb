{
 "cells": [
  {
   "attachments": {},
   "cell_type": "markdown",
   "metadata": {},
   "source": [
    "## Setup"
   ]
  },
  {
   "cell_type": "code",
   "execution_count": null,
   "metadata": {},
   "outputs": [],
   "source": [
    "%load_ext autoreload\n",
    "%autoreload 2"
   ]
  },
  {
   "cell_type": "code",
   "execution_count": null,
   "metadata": {},
   "outputs": [],
   "source": [
    "import os\n",
    "import sys\n",
    "sys.path.append(f'{os.getcwd()}/../')"
   ]
  },
  {
   "cell_type": "code",
   "execution_count": null,
   "metadata": {},
   "outputs": [],
   "source": [
    "from typing import Union\n",
    "import gymnasium as gym\n",
    "\n",
    "import numpy as np\n",
    "from numpy.random import Generator\n",
    "from gymnasium.spaces import Box, Discrete\n",
    "\n",
    "from src.wrapper import RestrictionWrapper\n",
    "from src.restrictors import Restrictor, RestrictorActionSpace, IntervalUnionActionSpace\n",
    "from src.restrictions import IntervalUnionRestriction\n",
    "\n",
    "from examples.envs.nfg import NFGEnvironment\n",
    "from examples.utils import play"
   ]
  },
  {
   "attachments": {},
   "cell_type": "markdown",
   "metadata": {},
   "source": [
    "## Definition of the Cournot Game"
   ]
  },
  {
   "cell_type": "code",
   "execution_count": null,
   "metadata": {},
   "outputs": [],
   "source": [
    "maximum_price = 120\n",
    "cost = 12\n",
    "\n",
    "observation_spaces = {'player_0': Box(0, maximum_price), 'player_1': Box(0, maximum_price)}\n",
    "action_spaces = {'player_0': Box(0, maximum_price), 'player_1': Box(0, maximum_price)}\n",
    "utilities = {\n",
    "    'player_0': (lambda actions: -actions['player_0'] ** 2 - actions['player_0'] * actions['player_1'] + (maximum_price - cost) * actions['player_0']), \n",
    "    'player_1': (lambda actions: -actions['player_1'] ** 2 - actions['player_0'] * actions['player_1'] + (maximum_price - cost) * actions['player_1'])}\n",
    "\n",
    "env = NFGEnvironment(observation_spaces, action_spaces, utilities, number_of_steps=100, render_mode='human')"
   ]
  },
  {
   "cell_type": "code",
   "execution_count": null,
   "metadata": {},
   "outputs": [],
   "source": [
    "# Players always choose the best response to the opponent's action\n",
    "\n",
    "def unrestricted_agent_policy(observation):\n",
    "    opponent_action = observation[0]\n",
    "    if opponent_action is None:\n",
    "        return np.random.randint(0, 121)\n",
    "    else:\n",
    "        return np.clip(54 - opponent_action / 2, 0, 120)"
   ]
  },
  {
   "attachments": {},
   "cell_type": "markdown",
   "metadata": {},
   "source": [
    "## Test: Play without restrictions"
   ]
  },
  {
   "cell_type": "code",
   "execution_count": null,
   "metadata": {},
   "outputs": [],
   "source": [
    "policies = {'player_0': unrestricted_agent_policy, 'player_1': unrestricted_agent_policy}\n",
    "play(env, policies, max_iter=20)"
   ]
  },
  {
   "attachments": {},
   "cell_type": "markdown",
   "metadata": {},
   "source": [
    "## Self-learning restrictions"
   ]
  },
  {
   "cell_type": "code",
   "execution_count": null,
   "metadata": {},
   "outputs": [],
   "source": [
    "# Players always choose the best response to the opponent's action, given the restriction\n",
    "\n",
    "def restricted_agent_policy(observation):\n",
    "    observation, restriction = observation['observation'], observation['restriction']\n",
    "    opponent_action = observation[0]\n",
    "    if opponent_action is None:\n",
    "        return np.random.randint(0, 121)\n",
    "    else:\n",
    "        return np.clip(54 - opponent_action / 2, 0, 120)"
   ]
  },
  {
   "cell_type": "code",
   "execution_count": null,
   "metadata": {},
   "outputs": [],
   "source": [
    "class CournotRestrictor(Restrictor):\n",
    "    def __init__(self, observation_space, action_space) -> None:\n",
    "        super().__init__(observation_space, action_space)\n",
    "\n",
    "        self.previous_observation = None\n",
    "        self.restriction = IntervalUnionRestriction(self.action_space.base_space)\n",
    "        self.has_restricted = False\n",
    "\n",
    "    def preprocess_observation(self, env: AECEnv):\n",
    "        return np.array(list(env.state().values()), dtype=float)\n",
    "    \n",
    "    def act(self, observation: gym.Space) -> RestrictorActionSpace:\n",
    "        if not np.isnan(observation).any():\n",
    "            if not self.has_restricted and self.previous_observation is not None:\n",
    "                if np.allclose(observation, self.previous_observation, atol=0.001):\n",
    "                    estimated_lambda = 3 / 2 * observation.sum()\n",
    "                    self.restriction.remove(estimated_lambda / 4, estimated_lambda / 2)\n",
    "                    self.has_restricted = True\n",
    "\n",
    "            self.previous_observation = observation\n",
    "\n",
    "        return self.restriction"
   ]
  },
  {
   "cell_type": "code",
   "execution_count": null,
   "metadata": {},
   "outputs": [],
   "source": [
    "restrictor = CournotRestrictor(Box(0, 120, shape=(2, )), IntervalUnionActionSpace(Box(0, 120)))\n",
    "wrapper = RestrictionWrapper(env, restrictor)\n",
    "\n",
    "policies = {'player_0': restricted_agent_policy, 'player_1': restricted_agent_policy, 'restrictor_0': restrictor.act}\n",
    "play(wrapper, policies, max_iter=50, verbose=True)"
   ]
  },
  {
   "cell_type": "code",
   "execution_count": null,
   "metadata": {},
   "outputs": [],
   "source": [
    "r = IntervalUnionRestriction(Box(0, 10))\n",
    "r.remove(3, 4)\n",
    "r.intervals"
   ]
  }
 ],
 "metadata": {
  "kernelspec": {
   "display_name": ".venv",
   "language": "python",
   "name": "python3"
  },
  "language_info": {
   "codemirror_mode": {
    "name": "ipython",
    "version": 3
   },
   "file_extension": ".py",
   "mimetype": "text/x-python",
   "name": "python",
   "nbconvert_exporter": "python",
   "pygments_lexer": "ipython3",
   "version": "3.11.3"
  },
  "orig_nbformat": 4
 },
 "nbformat": 4,
 "nbformat_minor": 2
}
