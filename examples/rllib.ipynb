{
 "cells": [
  {
   "cell_type": "code",
   "execution_count": 1,
   "metadata": {},
   "outputs": [],
   "source": [
    "import gymnasium as gym\n",
    "\n",
    "from envs.rllib import DummyEnvironment, NavigationEnvironment\n",
    "from src.wrappers.rllib import UniformlyRestrictedEnvironment\n",
    "from src.utils import test_environment"
   ]
  },
  {
   "cell_type": "code",
   "execution_count": 3,
   "metadata": {},
   "outputs": [
    {
     "name": "stdout",
     "output_type": "stream",
     "text": [
      "Testing <class 'envs.rllib.DummyEnvironment'>...\n",
      "Reset: {'0': array([0.7862554 , 0.09598847], dtype=float32), '1': array([0.39947695, 0.65278894], dtype=float32)}\n",
      "Actions: {'0': 1, '1': 2}\n",
      "Step:  {'0': array([0.1364285, 0.8953858], dtype=float32), '1': array([0.38328525, 0.0073029 ], dtype=float32)}, {'0': 0.11057595029742373, '1': 0.9079943688748312}, {'__all__': False}\n",
      "Actions: {'0': 2, '1': 2}\n",
      "Step:  {'0': array([0.9688025, 0.7681059], dtype=float32), '1': array([0.8119259 , 0.13966975], dtype=float32)}, {'0': 0.7931401435961336, '1': 0.026237086691505707}, {'__all__': False}\n",
      "Actions: {'0': 0, '1': 1}\n",
      "Step:  {'0': array([0.3413117, 0.1446504], dtype=float32), '1': array([0.60589707, 0.5302609 ], dtype=float32)}, {'0': 0.9410268625036521, '1': 0.6303095628330038}, {'__all__': False}\n",
      "Actions: {'0': 0, '1': 2}\n",
      "Step:  {'0': array([0.13044316, 0.24048765], dtype=float32), '1': array([0.61571777, 0.2582697 ], dtype=float32)}, {'0': 0.0462611125367014, '1': 0.8177573684699918}, {'__all__': False}\n",
      "Actions: {'0': 2, '1': 1}\n",
      "Step:  {'0': array([0.15411547, 0.85888153], dtype=float32), '1': array([0.44545442, 0.07121962], dtype=float32)}, {'0': 0.8192633874048079, '1': 0.8071981009080671}, {'__all__': True}\n",
      "Reset: {'0': array([0.64464265, 0.55310816], dtype=float32), '1': array([0.6328861 , 0.29345196], dtype=float32)}\n",
      "Actions: {'0': 0, '1': 0}\n",
      "Step:  {'0': array([0.19610177, 0.5350596 ], dtype=float32), '1': array([0.991542  , 0.08944682], dtype=float32)}, {'0': 0.7152103821334418, '1': 0.47316344671740296}, {'__all__': False}\n",
      "Actions: {'0': 1, '1': 2}\n",
      "Step:  {'0': array([0.345562  , 0.08674961], dtype=float32), '1': array([0.03522847, 0.49771643], dtype=float32)}, {'0': 0.3410733387275162, '1': 0.7496815068255651}, {'__all__': False}\n",
      "Actions: {'0': 1, '1': 2}\n",
      "Step:  {'0': array([0.90142876, 0.47081032], dtype=float32), '1': array([0.5117093 , 0.04073037], dtype=float32)}, {'0': 0.19567851251288393, '1': 0.7931843397786221}, {'__all__': False}\n",
      "Actions: {'0': 2, '1': 2}\n",
      "Step:  {'0': array([0.03365032, 0.07867505], dtype=float32), '1': array([0.47000661, 0.7690164 ], dtype=float32)}, {'0': 0.3955755864331403, '1': 0.45317336143094233}, {'__all__': False}\n",
      "Actions: {'0': 0, '1': 0}\n",
      "Step:  {'0': array([0.46269906, 0.9752812 ], dtype=float32), '1': array([0.7172704, 0.8988688], dtype=float32)}, {'0': 0.47922923742812285, '1': 0.4015008587751222}, {'__all__': True}\n",
      "Reset: {'0': array([0.01306475, 0.5844401 ], dtype=float32), '1': array([0.43969643, 0.35757846], dtype=float32)}\n",
      "Actions: {'0': 2, '1': 1}\n",
      "Step:  {'0': array([0.29229805, 0.59787184], dtype=float32), '1': array([0.85567814, 0.63304937], dtype=float32)}, {'0': 0.9663570477396983, '1': 0.6328712189957448}, {'__all__': False}\n",
      "Actions: {'0': 2, '1': 0}\n",
      "Step:  {'0': array([0.21381962, 0.3593093 ], dtype=float32), '1': array([0.44172236, 0.87592137], dtype=float32)}, {'0': 0.46459039694951454, '1': 0.5630017341834775}, {'__all__': False}\n",
      "Actions: {'0': 1, '1': 1}\n",
      "Step:  {'0': array([0.43065065, 0.11517925], dtype=float32), '1': array([0.310791  , 0.09868806], dtype=float32)}, {'0': 0.980748304446251, '1': 0.7058665092034676}, {'__all__': False}\n",
      "Actions: {'0': 0, '1': 2}\n",
      "Step:  {'0': array([0.26543814, 0.25231767], dtype=float32), '1': array([0.2519678 , 0.92807466], dtype=float32)}, {'0': 0.7877267301385961, '1': 0.6879270931862291}, {'__all__': False}\n",
      "Actions: {'0': 1, '1': 1}\n",
      "Step:  {'0': array([0.2421831 , 0.78567624], dtype=float32), '1': array([0.16702153, 0.7623897 ], dtype=float32)}, {'0': 0.9366089191233576, '1': 0.9632836652942695}, {'__all__': True}\n",
      "Reset: {'0': array([0.982479 , 0.6283219], dtype=float32), '1': array([0.8353691 , 0.38548386], dtype=float32)}\n",
      "Actions: {'0': 1, '1': 0}\n",
      "Step:  {'0': array([0.06100741, 0.1165457 ], dtype=float32), '1': array([0.8582547 , 0.12166992], dtype=float32)}, {'0': 0.12057028370090506, '1': 0.5399760366597314}, {'__all__': False}\n",
      "Actions: {'0': 0, '1': 0}\n",
      "Step:  {'0': array([0.6166011 , 0.19457564], dtype=float32), '1': array([0.30452672, 0.7677201 ], dtype=float32)}, {'0': 0.03010904991957375, '1': 0.6913857371570952}, {'__all__': False}\n",
      "Actions: {'0': 2, '1': 0}\n",
      "Step:  {'0': array([0.6605813, 0.8295386], dtype=float32), '1': array([0.48720458, 0.8913043 ], dtype=float32)}, {'0': 0.6736592813704325, '1': 0.5945796119132677}, {'__all__': False}\n",
      "Actions: {'0': 0, '1': 0}\n",
      "Step:  {'0': array([0.38968858, 0.7112591 ], dtype=float32), '1': array([0.76935726, 0.89189804], dtype=float32)}, {'0': 0.08873550572711353, '1': 0.15755757764104117}, {'__all__': False}\n",
      "Actions: {'0': 0, '1': 1}\n",
      "Step:  {'0': array([0.943805  , 0.45104414], dtype=float32), '1': array([0.63756037, 0.5637611 ], dtype=float32)}, {'0': 0.8092199601215497, '1': 0.47712668024085525}, {'__all__': True}\n",
      "Reset: {'0': array([0.6303618, 0.5312824], dtype=float32), '1': array([0.47910452, 0.66325   ], dtype=float32)}\n",
      "Test finished!\n"
     ]
    }
   ],
   "source": [
    "test_environment(DummyEnvironment)"
   ]
  },
  {
   "cell_type": "code",
   "execution_count": 4,
   "metadata": {},
   "outputs": [
    {
     "name": "stdout",
     "output_type": "stream",
     "text": [
      "Testing <class 'src.wrappers.rllib.UniformlyRestrictedEnvironment'>...\n",
      "Reset: {'gov': 0}\n",
      "Actions: {'gov': array([0.01949027], dtype=float32)}\n",
      "Step:  {'0': {'observation': array([0.77780414, 0.53217113], dtype=float32), 'allowed_actions': array([0.01949027], dtype=float32)}, '1': {'observation': array([0.32730842, 0.7892325 ], dtype=float32), 'allowed_actions': array([0.01949027], dtype=float32)}}, {}, {'__all__': False}\n",
      "Actions: {'0': array([0.7581742], dtype=float32), '1': array([0.00782332], dtype=float32)}\n",
      "Step:  {'gov': 0}, {'gov': 1.0869619194492015}, {'__all__': False}\n",
      "Actions: {'gov': array([0.7771433], dtype=float32)}\n",
      "Step:  {'0': {'observation': array([0.9439658 , 0.97181374], dtype=float32), 'allowed_actions': array([0.7771433], dtype=float32)}, '1': {'observation': array([0.5301363 , 0.09677837], dtype=float32), 'allowed_actions': array([0.7771433], dtype=float32)}}, {'0': 0.30053967332978615, '1': 0.7864222461194154}, {'__all__': False}\n",
      "Actions: {'0': array([0.7908178], dtype=float32), '1': array([0.8882657], dtype=float32)}\n",
      "Step:  {'gov': 0}, {'gov': 0.7400389345251299}, {'__all__': False}\n",
      "Actions: {'gov': array([0.99892825], dtype=float32)}\n",
      "Step:  {'0': {'observation': array([0.6704222 , 0.85485387], dtype=float32), 'allowed_actions': array([0.99892825], dtype=float32)}, '1': {'observation': array([0.19578207, 0.89213496], dtype=float32), 'allowed_actions': array([0.99892825], dtype=float32)}}, {'0': 0.10020291413066029, '1': 0.6398360203944696}, {'__all__': False}\n",
      "Actions: {'0': array([0.681935], dtype=float32), '1': array([0.8838562], dtype=float32)}\n",
      "Step:  {'gov': 0}, {'gov': 1.3485316501541131}, {'__all__': False}\n",
      "Actions: {'gov': array([0.91960365], dtype=float32)}\n",
      "Step:  {'0': {'observation': array([0.34156612, 0.8063281 ], dtype=float32), 'allowed_actions': array([0.91960365], dtype=float32)}, '1': {'observation': array([0.2779254 , 0.63533354], dtype=float32), 'allowed_actions': array([0.91960365], dtype=float32)}}, {'0': 0.7629824010875423, '1': 0.5855492490665708}, {'__all__': False}\n",
      "Actions: {'0': array([0.44491056], dtype=float32), '1': array([0.6883162], dtype=float32)}\n",
      "Step:  {'gov': 0}, {'gov': 1.4093533170358516}, {'__all__': False}\n",
      "Actions: {'gov': array([0.8269607], dtype=float32)}\n",
      "Step:  {'0': {'observation': array([0.7361383 , 0.46895015], dtype=float32), 'allowed_actions': array([0.8269607], dtype=float32)}, '1': {'observation': array([0.6771302, 0.853481 ], dtype=float32), 'allowed_actions': array([0.8269607], dtype=float32)}}, {'0': 0.5358404128745603, '1': 0.8735129041612915}, {'__all__': False}\n",
      "Actions: {'0': array([0.80233645], dtype=float32), '1': array([0.0340363], dtype=float32)}\n",
      "Step:  {'gov': 0}, {'gov': 0.8842255040141607}, {'__all__': True}\n",
      "Reset: {'gov': 0}\n",
      "Actions: {'gov': array([0.03193691], dtype=float32)}\n",
      "Step:  {'0': {'observation': array([0.6716239 , 0.80999684], dtype=float32), 'allowed_actions': array([0.03193691], dtype=float32)}, '1': {'observation': array([0.3699114 , 0.19515677], dtype=float32), 'allowed_actions': array([0.03193691], dtype=float32)}}, {}, {'__all__': False}\n",
      "Actions: {'0': array([0.87567955], dtype=float32), '1': array([0.34918752], dtype=float32)}\n",
      "Step:  {'gov': 0}, {'gov': 1.0523451653377396}, {'__all__': False}\n",
      "Actions: {'gov': array([0.693082], dtype=float32)}\n",
      "Step:  {'0': {'observation': array([0.5021529 , 0.85361356], dtype=float32), 'allowed_actions': array([0.693082], dtype=float32)}, '1': {'observation': array([0.95703   , 0.48914698], dtype=float32), 'allowed_actions': array([0.693082], dtype=float32)}}, {'0': 0.4890502214935737, '1': 0.5632949438441659}, {'__all__': False}\n",
      "Actions: {'0': array([0.9488096], dtype=float32), '1': array([0.39764112], dtype=float32)}\n",
      "Step:  {'gov': 0}, {'gov': 0.3017168852011717}, {'__all__': False}\n",
      "Actions: {'gov': array([0.18586534], dtype=float32)}\n",
      "Step:  {'0': {'observation': array([0.11186821, 0.28216684], dtype=float32), 'allowed_actions': array([0.18586534], dtype=float32)}, '1': {'observation': array([0.96299523, 0.880695  ], dtype=float32), 'allowed_actions': array([0.18586534], dtype=float32)}}, {'0': 0.1155618147683668, '1': 0.18615507043280488}, {'__all__': False}\n",
      "Actions: {'0': array([0.41010153], dtype=float32), '1': array([0.3361781], dtype=float32)}\n",
      "Step:  {'gov': 0}, {'gov': 0.9743164242114066}, {'__all__': False}\n",
      "Actions: {'gov': array([0.7988186], dtype=float32)}\n",
      "Step:  {'0': {'observation': array([0.07035464, 0.15247145], dtype=float32), 'allowed_actions': array([0.7988186], dtype=float32)}, '1': {'observation': array([0.27895552, 0.9734343 ], dtype=float32), 'allowed_actions': array([0.7988186], dtype=float32)}}, {'0': 0.21509647349569483, '1': 0.7592199507157118}, {'__all__': False}\n",
      "Actions: {'0': array([0.91461086], dtype=float32), '1': array([0.0083724], dtype=float32)}\n",
      "Step:  {'gov': 0}, {'gov': 0.6186978039215915}, {'__all__': False}\n",
      "Actions: {'gov': array([0.332534], dtype=float32)}\n",
      "Step:  {'0': {'observation': array([0.6342923 , 0.79037416], dtype=float32), 'allowed_actions': array([0.332534], dtype=float32)}, '1': {'observation': array([0.6843673, 0.6080926], dtype=float32), 'allowed_actions': array([0.332534], dtype=float32)}}, {'0': 0.4173047205730903, '1': 0.20139308334850115}, {'__all__': False}\n",
      "Actions: {'0': array([0.81688696], dtype=float32), '1': array([0.9450734], dtype=float32)}\n",
      "Step:  {'gov': 0}, {'gov': 0.7310295231789543}, {'__all__': True}\n",
      "Reset: {'gov': 0}\n",
      "Test finished!\n"
     ]
    }
   ],
   "source": [
    "env_config = {'action_space': gym.spaces.Box(0.0, 1.0)}\n",
    "\n",
    "test_environment(UniformlyRestrictedEnvironment({ 'env': DummyEnvironment, 'env_config': env_config, 'governance_action_space': gym.spaces.Box(0.0, 1.0)}))"
   ]
  },
  {
   "cell_type": "code",
   "execution_count": 2,
   "outputs": [
    {
     "name": "stdout",
     "output_type": "stream",
     "text": [
      "Testing <class 'src.wrappers.rllib.UniformlyRestrictedEnvironment'>...\n",
      "Reset: {'gov': 0}\n",
      "Actions: {'gov': array([0.46747673], dtype=float32)}\n",
      "Step:  {'agent': {'observation': {'location': array([1., 1.], dtype=float32), 'perspective': array([90.], dtype=float32), 'target_angle': array([45.], dtype=float32), 'target_distance': array([0.], dtype=float32), 'current_step': array([0.], dtype=float32)}, 'allowed_actions': array([0.46747673], dtype=float32)}}, {}, {'__all__': False}\n",
      "Actions: {'agent': array([107.49837], dtype=float32)}\n",
      "Step:  {'gov': 0}, {'gov': -80.25}, {'__all__': False}\n",
      "Actions: {'gov': array([0.7961565], dtype=float32)}\n",
      "Step:  {'agent': {'observation': {'location': array([0.04628, 0.69929], dtype=float32), 'perspective': array([197.5], dtype=float32), 'target_angle': array([154.11], dtype=float32), 'target_distance': array([16.050009], dtype=float32), 'current_step': array([1.], dtype=float32)}, 'allowed_actions': array([0.7961565], dtype=float32)}}, {'agent': -80.25}, {'__all__': False}\n",
      "Actions: {'agent': array([47.288452], dtype=float32)}\n",
      "Step:  {'gov': 0}, {'gov': -4.7237}, {'__all__': False}\n",
      "Actions: {'gov': array([0.9017381], dtype=float32)}\n",
      "Step:  {'agent': {'observation': {'location': array([-0.37966, -0.20546], dtype=float32), 'perspective': array([244.79], dtype=float32), 'target_angle': array([200.2], dtype=float32), 'target_distance': array([16.984753], dtype=float32), 'current_step': array([2.], dtype=float32)}, 'allowed_actions': array([0.9017381], dtype=float32)}}, {'agent': -4.7237}, {'__all__': False}\n",
      "Actions: {'agent': array([97.95314], dtype=float32)}\n",
      "Step:  {'gov': 0}, {'gov': 2.1418}, {'__all__': False}\n",
      "Actions: {'gov': array([0.5207077], dtype=float32)}\n",
      "Step:  {'agent': {'observation': {'location': array([ 0.57531, -0.50217], dtype=float32), 'perspective': array([342.74], dtype=float32), 'target_angle': array([295.16], dtype=float32), 'target_distance': array([16.536406], dtype=float32), 'current_step': array([3.], dtype=float32)}, 'allowed_actions': array([0.5207077], dtype=float32)}}, {'agent': 2.1418}, {'__all__': False}\n",
      "Actions: {'agent': array([5.0933757], dtype=float32)}\n",
      "Step:  {'gov': 0}, {'gov': 2.2575}, {'__all__': True}\n",
      "Reset: {'gov': 0}\n",
      "Actions: {'gov': array([0.03456627], dtype=float32)}\n",
      "Step:  {'agent': {'observation': {'location': array([1., 1.], dtype=float32), 'perspective': array([90.], dtype=float32), 'target_angle': array([45.], dtype=float32), 'target_distance': array([0.], dtype=float32), 'current_step': array([0.], dtype=float32)}, 'allowed_actions': array([0.03456627], dtype=float32)}}, {}, {'__all__': False}\n",
      "Actions: {'agent': array([11.132802], dtype=float32)}\n",
      "Step:  {'gov': 0}, {'gov': -73.11}, {'__all__': False}\n",
      "Actions: {'gov': array([0.91967833], dtype=float32)}\n",
      "Step:  {'agent': {'observation': {'location': array([0.80696, 1.9812 ], dtype=float32), 'perspective': array([101.13], dtype=float32), 'target_angle': array([59.298], dtype=float32), 'target_distance': array([14.622378], dtype=float32), 'current_step': array([1.], dtype=float32)}, 'allowed_actions': array([0.91967833], dtype=float32)}}, {'agent': -73.11}, {'__all__': False}\n",
      "Actions: {'agent': array([10.970864], dtype=float32)}\n",
      "Step:  {'gov': 0}, {'gov': 1.4888}, {'__all__': False}\n",
      "Actions: {'gov': array([0.08460754], dtype=float32)}\n",
      "Step:  {'agent': {'observation': {'location': array([0.43074, 2.9077 ], dtype=float32), 'perspective': array([112.1], dtype=float32), 'target_angle': array([73.935], dtype=float32), 'target_distance': array([14.314632], dtype=float32), 'current_step': array([2.], dtype=float32)}, 'allowed_actions': array([0.08460754], dtype=float32)}}, {'agent': 1.4888}, {'__all__': False}\n",
      "Actions: {'agent': array([-99.16025], dtype=float32)}\n",
      "Step:  {'gov': 0}, {'gov': 4.3908}, {'__all__': False}\n",
      "Actions: {'gov': array([0.8077601], dtype=float32)}\n",
      "Step:  {'agent': {'observation': {'location': array([1.4054, 3.1316], dtype=float32), 'perspective': array([12.94], dtype=float32), 'target_angle': array([333.01], dtype=float32), 'target_distance': array([13.416461], dtype=float32), 'current_step': array([3.], dtype=float32)}, 'allowed_actions': array([0.8077601], dtype=float32)}}, {'agent': 4.3908}, {'__all__': False}\n",
      "Actions: {'agent': array([55.313198], dtype=float32)}\n",
      "Step:  {'gov': 0}, {'gov': 4.2072}, {'__all__': True}\n",
      "Reset: {'gov': 0}\n",
      "Actions: {'gov': array([0.15500961], dtype=float32)}\n",
      "Step:  {'agent': {'observation': {'location': array([1., 1.], dtype=float32), 'perspective': array([90.], dtype=float32), 'target_angle': array([45.], dtype=float32), 'target_distance': array([0.], dtype=float32), 'current_step': array([0.], dtype=float32)}, 'allowed_actions': array([0.15500961], dtype=float32)}}, {}, {'__all__': False}\n",
      "Actions: {'agent': array([-90.30162], dtype=float32)}\n",
      "Step:  {'gov': 0}, {'gov': -72.35}, {'__all__': False}\n",
      "Actions: {'gov': array([0.19165422], dtype=float32)}\n",
      "Step:  {'agent': {'observation': {'location': array([2.     , 0.99476], dtype=float32), 'perspective': array([359.7], dtype=float32), 'target_angle': array([311.96], dtype=float32), 'target_distance': array([14.470416], dtype=float32), 'current_step': array([1.], dtype=float32)}, 'allowed_actions': array([0.19165422], dtype=float32)}}, {'agent': -72.35}, {'__all__': False}\n",
      "Actions: {'agent': array([101.42886], dtype=float32)}\n",
      "Step:  {'gov': 0}, {'gov': 2.8216}, {'__all__': False}\n",
      "Test finished!\n"
     ]
    }
   ],
   "source": [
    "env_config = {\n",
    "    'STEPS_PER_EPISODE': 4,\n",
    "    'ACTION_RANGE': 220,\n",
    "    'DT': 1.0,\n",
    "    'REWARD': {\n",
    "        'TIMESTEP_PENALTY_COEFFICIENT': 0.05,\n",
    "        'REWARD_COEFFICIENT': 5.0,\n",
    "        'GOAL': 50,\n",
    "        'COLLISION': -20.0\n",
    "    },\n",
    "    'MAP': {\n",
    "        'HEIGHT': 15.0,\n",
    "        'WIDTH': 15.0,\n",
    "        'AGENT': {'x': 1.0, 'y': 1.0, 'angle': 90.0, 'step_size': 1.0, 'radius': 0.4},\n",
    "        'GOAL': {'x': 12.0, 'y': 12.0, 'radius': 0.5}\n",
    "    }\n",
    "}\n",
    "\n",
    "test_environment(UniformlyRestrictedEnvironment({ 'env': NavigationEnvironment, 'env_config': env_config, 'governance_action_space': gym.spaces.Box(0.0, 1.0)}))"
   ],
   "metadata": {
    "collapsed": false
   }
  },
  {
   "cell_type": "code",
   "execution_count": null,
   "outputs": [],
   "source": [],
   "metadata": {
    "collapsed": false
   }
  }
 ],
 "metadata": {
  "kernelspec": {
   "display_name": ".venv",
   "language": "python",
   "name": "python3"
  },
  "language_info": {
   "codemirror_mode": {
    "name": "ipython",
    "version": 3
   },
   "file_extension": ".py",
   "mimetype": "text/x-python",
   "name": "python",
   "nbconvert_exporter": "python",
   "pygments_lexer": "ipython3",
   "version": "3.9.16"
  },
  "orig_nbformat": 4
 },
 "nbformat": 4,
 "nbformat_minor": 2
}
