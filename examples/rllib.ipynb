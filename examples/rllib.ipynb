{
 "cells": [
  {
   "cell_type": "code",
   "execution_count": 1,
   "metadata": {},
   "outputs": [],
   "source": [
    "import gymnasium as gym\n",
    "\n",
    "from envs.rllib import DummyEnvironment\n",
    "from src.wrappers.rllib import UniformlyRestrictedEnvironment\n",
    "from src.utils import test_environment"
   ]
  },
  {
   "cell_type": "code",
   "execution_count": 2,
   "metadata": {},
   "outputs": [
    {
     "name": "stdout",
     "output_type": "stream",
     "text": [
      "Testing <class 'envs.rllib.DummyEnvironment'>...\n",
      "Reset: {'0': array([0.6727912, 0.8889548], dtype=float32), '1': array([0.55685323, 0.75645125], dtype=float32)}\n",
      "Actions: {'0': 2, '1': 2}\n",
      "Step:  {'0': array([0.53469455, 0.94462395], dtype=float32), '1': array([0.86224824, 0.60816336], dtype=float32)}, {'0': 0.77840954776388, '1': 0.21310117729227895}, {'__all__': False}\n",
      "Actions: {'0': 2, '1': 1}\n",
      "Step:  {'0': array([0.18398279, 0.41683522], dtype=float32), '1': array([0.76554835, 0.3123363 ], dtype=float32)}, {'0': 0.07815280993777385, '1': 0.5088450271694417}, {'__all__': False}\n",
      "Actions: {'0': 2, '1': 0}\n",
      "Step:  {'0': array([0.839865 , 0.7542257], dtype=float32), '1': array([0.44633624, 0.78522897], dtype=float32)}, {'0': 0.4750707449221223, '1': 0.15724584745842396}, {'__all__': False}\n",
      "Actions: {'0': 2, '1': 0}\n",
      "Step:  {'0': array([0.484708  , 0.33523908], dtype=float32), '1': array([0.5028542 , 0.17261794], dtype=float32)}, {'0': 0.622444759916867, '1': 0.7606707022044892}, {'__all__': False}\n",
      "Actions: {'0': 1, '1': 0}\n",
      "Step:  {'0': array([0.10871071, 0.78245836], dtype=float32), '1': array([0.76436347, 0.49730927], dtype=float32)}, {'0': 0.25114906153364314, '1': 0.5167224301364062}, {'__all__': True}\n",
      "Reset: {'0': array([0.8471197 , 0.87532413], dtype=float32), '1': array([0.78651816, 0.51265705], dtype=float32)}\n",
      "Actions: {'0': 2, '1': 2}\n",
      "Step:  {'0': array([0.9809838 , 0.43639874], dtype=float32), '1': array([0.3673119 , 0.55405676], dtype=float32)}, {'0': 0.5121893592511688, '1': 0.7561942443298793}, {'__all__': False}\n",
      "Actions: {'0': 1, '1': 1}\n",
      "Step:  {'0': array([0.53815114, 0.2599132 ], dtype=float32), '1': array([0.9097627 , 0.88557374], dtype=float32)}, {'0': 0.5555778453193446, '1': 0.6209859515464701}, {'__all__': False}\n",
      "Actions: {'0': 1, '1': 0}\n",
      "Step:  {'0': array([0.6206436, 0.5874705], dtype=float32), '1': array([0.70633274, 0.805006  ], dtype=float32)}, {'0': 0.4195538677068673, '1': 0.04333288335226426}, {'__all__': False}\n",
      "Actions: {'0': 0, '1': 2}\n",
      "Step:  {'0': array([0.23665908, 0.42097306], dtype=float32), '1': array([0.02828694, 0.746481  ], dtype=float32)}, {'0': 0.8145640613294988, '1': 0.931013055877099}, {'__all__': False}\n",
      "Actions: {'0': 1, '1': 1}\n",
      "Step:  {'0': array([0.57062656, 0.6764553 ], dtype=float32), '1': array([0.7913815 , 0.24702929], dtype=float32)}, {'0': 0.4636774191499895, '1': 0.5745038332306982}, {'__all__': True}\n",
      "Reset: {'0': array([0.9049651, 0.7759114], dtype=float32), '1': array([0.1304135, 0.2494485], dtype=float32)}\n",
      "Actions: {'0': 2, '1': 0}\n",
      "Step:  {'0': array([0.8652988 , 0.31302395], dtype=float32), '1': array([0.09979371, 0.7908542 ], dtype=float32)}, {'0': 0.45303321062690893, '1': 0.6360665648364334}, {'__all__': False}\n",
      "Actions: {'0': 1, '1': 1}\n",
      "Step:  {'0': array([0.8853252 , 0.93944913], dtype=float32), '1': array([0.27481353, 0.78701067], dtype=float32)}, {'0': 0.5933166559765317, '1': 0.05499091817324453}, {'__all__': False}\n",
      "Actions: {'0': 2, '1': 1}\n",
      "Step:  {'0': array([0.18661554, 0.36460096], dtype=float32), '1': array([0.9416572, 0.9599233], dtype=float32)}, {'0': 0.3347654041356928, '1': 0.6822038417853628}, {'__all__': False}\n",
      "Actions: {'0': 1, '1': 2}\n",
      "Step:  {'0': array([0.65136075, 0.15674248], dtype=float32), '1': array([0.96462363, 0.80187356], dtype=float32)}, {'0': 0.07997521232525362, '1': 0.6327640700513444}, {'__all__': False}\n",
      "Actions: {'0': 1, '1': 0}\n",
      "Step:  {'0': array([0.9775536, 0.6306892], dtype=float32), '1': array([0.27368683, 0.32511282], dtype=float32)}, {'0': 0.47238241553549276, '1': 0.6475432739297199}, {'__all__': True}\n",
      "Reset: {'0': array([0.5477934, 0.6527747], dtype=float32), '1': array([0.65488976, 0.19690128], dtype=float32)}\n",
      "Actions: {'0': 1, '1': 0}\n",
      "Step:  {'0': array([0.6772669, 0.6088223], dtype=float32), '1': array([0.2909142, 0.7913078], dtype=float32)}, {'0': 0.7348570917863334, '1': 0.2924018609403707}, {'__all__': False}\n",
      "Actions: {'0': 1, '1': 1}\n",
      "Step:  {'0': array([0.29748195, 0.26944014], dtype=float32), '1': array([0.15800497, 0.9428984 ], dtype=float32)}, {'0': 0.22345643635943147, '1': 0.7820260721791635}, {'__all__': False}\n",
      "Actions: {'0': 2, '1': 0}\n",
      "Step:  {'0': array([0.9174463 , 0.54187196], dtype=float32), '1': array([0.6992985 , 0.93635833], dtype=float32)}, {'0': 0.6643363181602077, '1': 0.5952429224552039}, {'__all__': False}\n",
      "Actions: {'0': 0, '1': 0}\n",
      "Step:  {'0': array([0.50758106, 0.45972663], dtype=float32), '1': array([0.8184962 , 0.22815281], dtype=float32)}, {'0': 0.4111670781452542, '1': 0.5947444151000751}, {'__all__': False}\n",
      "Actions: {'0': 0, '1': 1}\n",
      "Step:  {'0': array([0.4386163 , 0.62569064], dtype=float32), '1': array([0.8033427, 0.8292151], dtype=float32)}, {'0': 0.9723388222178456, '1': 0.6018157804731964}, {'__all__': True}\n",
      "Reset: {'0': array([0.04713115, 0.79630995], dtype=float32), '1': array([0.7499835 , 0.07620504], dtype=float32)}\n",
      "Test finished!\n"
     ]
    }
   ],
   "source": [
    "test_environment(DummyEnvironment)"
   ]
  },
  {
   "cell_type": "code",
   "execution_count": 3,
   "metadata": {},
   "outputs": [
    {
     "name": "stdout",
     "output_type": "stream",
     "text": [
      "Testing <class 'src.wrappers.rllib.UniformlyRestrictedEnvironment'>...\n",
      "Reset: {'gov': 0}\n",
      "Actions: {'gov': array([0.44632417], dtype=float32)}\n",
      "Step:  {'0': {'observation': array([0.1120354 , 0.85574687], dtype=float32), 'allowed_actions': array([0.44632417], dtype=float32)}, '1': {'observation': array([0.38524696, 0.9515381 ], dtype=float32), 'allowed_actions': array([0.44632417], dtype=float32)}}, {}, {'__all__': False}\n",
      "Actions: {'0': array([0.30087507], dtype=float32), '1': array([0.9527573], dtype=float32)}\n",
      "Step:  {'gov': 0}, {'gov': 1.0436594376465638}, {'__all__': False}\n",
      "Actions: {'gov': array([0.35408455], dtype=float32)}\n",
      "Step:  {'0': {'observation': array([0.37391806, 0.46113598], dtype=float32), 'allowed_actions': array([0.35408455], dtype=float32)}, '1': {'observation': array([0.16022688, 0.51763   ], dtype=float32), 'allowed_actions': array([0.35408455], dtype=float32)}}, {'0': 0.17782235825321835, '1': 0.8658370793933455}, {'__all__': False}\n",
      "Actions: {'0': array([0.33343732], dtype=float32), '1': array([0.11306323], dtype=float32)}\n",
      "Step:  {'gov': 0}, {'gov': 1.0598143372352116}, {'__all__': False}\n",
      "Actions: {'gov': array([0.7118195], dtype=float32)}\n",
      "Step:  {'0': {'observation': array([0.04183641, 0.61580765], dtype=float32), 'allowed_actions': array([0.7118195], dtype=float32)}, '1': {'observation': array([0.5631971, 0.8137854], dtype=float32), 'allowed_actions': array([0.7118195], dtype=float32)}}, {'0': 0.4814067697941652, '1': 0.5784075674410465}, {'__all__': False}\n",
      "Actions: {'0': array([0.07686374], dtype=float32), '1': array([0.5010092], dtype=float32)}\n",
      "Step:  {'gov': 0}, {'gov': 1.343056643396972}, {'__all__': False}\n",
      "Actions: {'gov': array([0.9566129], dtype=float32)}\n",
      "Step:  {'0': {'observation': array([0.97143   , 0.51161414], dtype=float32), 'allowed_actions': array([0.9566129], dtype=float32)}, '1': {'observation': array([0.4241475, 0.9607486], dtype=float32), 'allowed_actions': array([0.9566129], dtype=float32)}}, {'0': 0.8548533186487797, '1': 0.4882033247481924}, {'__all__': False}\n",
      "Actions: {'0': array([0.21049657], dtype=float32), '1': array([0.591645], dtype=float32)}\n",
      "Step:  {'gov': 0}, {'gov': 1.1156456593253412}, {'__all__': False}\n",
      "Actions: {'gov': array([0.6991906], dtype=float32)}\n",
      "Step:  {'0': {'observation': array([0.5256251 , 0.57781756], dtype=float32), 'allowed_actions': array([0.6991906], dtype=float32)}, '1': {'observation': array([0.09058015, 0.06028553], dtype=float32), 'allowed_actions': array([0.6991906], dtype=float32)}}, {'0': 0.41133306326109564, '1': 0.7043125960642457}, {'__all__': False}\n",
      "Actions: {'0': array([0.7534504], dtype=float32), '1': array([0.8904256], dtype=float32)}\n",
      "Step:  {'gov': 0}, {'gov': 1.666535990799002}, {'__all__': True}\n",
      "Reset: {'gov': 0}\n",
      "Actions: {'gov': array([0.98229516], dtype=float32)}\n",
      "Step:  {'0': {'observation': array([0.145592 , 0.6267389], dtype=float32), 'allowed_actions': array([0.98229516], dtype=float32)}, '1': {'observation': array([0.13008982, 0.0748767 ], dtype=float32), 'allowed_actions': array([0.98229516], dtype=float32)}}, {}, {'__all__': False}\n",
      "Actions: {'0': array([0.24580908], dtype=float32), '1': array([0.9234758], dtype=float32)}\n",
      "Step:  {'gov': 0}, {'gov': 0.8843805740305432}, {'__all__': False}\n",
      "Actions: {'gov': array([0.5738772], dtype=float32)}\n",
      "Step:  {'0': {'observation': array([0.6216885 , 0.71054393], dtype=float32), 'allowed_actions': array([0.5738772], dtype=float32)}, '1': {'observation': array([0.9698522 , 0.84009844], dtype=float32), 'allowed_actions': array([0.5738772], dtype=float32)}}, {'0': 0.07363554945570816, '1': 0.810745024574835}, {'__all__': False}\n",
      "Actions: {'0': array([0.33097154], dtype=float32), '1': array([0.63895935], dtype=float32)}\n",
      "Step:  {'gov': 0}, {'gov': 1.4253120034248774}, {'__all__': False}\n",
      "Actions: {'gov': array([0.10708595], dtype=float32)}\n",
      "Step:  {'0': {'observation': array([0.00654939, 0.72484255], dtype=float32), 'allowed_actions': array([0.10708595], dtype=float32)}, '1': {'observation': array([0.8630016, 0.6972938], dtype=float32), 'allowed_actions': array([0.10708595], dtype=float32)}}, {'0': 0.980099807398389, '1': 0.4452121960264884}, {'__all__': False}\n",
      "Actions: {'0': array([0.29336601], dtype=float32), '1': array([0.9964887], dtype=float32)}\n",
      "Step:  {'gov': 0}, {'gov': 1.3381641598369238}, {'__all__': False}\n",
      "Actions: {'gov': array([0.56039923], dtype=float32)}\n",
      "Step:  {'0': {'observation': array([0.97059363, 0.32800677], dtype=float32), 'allowed_actions': array([0.56039923], dtype=float32)}, '1': {'observation': array([0.12716514, 0.79287577], dtype=float32), 'allowed_actions': array([0.56039923], dtype=float32)}}, {'0': 0.5250716718893804, '1': 0.8130924879475434}, {'__all__': False}\n",
      "Actions: {'0': array([0.49094442], dtype=float32), '1': array([0.42778605], dtype=float32)}\n",
      "Step:  {'gov': 0}, {'gov': 1.1425142778229842}, {'__all__': False}\n",
      "Actions: {'gov': array([0.7989152], dtype=float32)}\n",
      "Step:  {'0': {'observation': array([0.26637498, 0.48534355], dtype=float32), 'allowed_actions': array([0.7989152], dtype=float32)}, '1': {'observation': array([0.47557294, 0.72710425], dtype=float32), 'allowed_actions': array([0.7989152], dtype=float32)}}, {'0': 0.7967737888985181, '1': 0.34574048892446607}, {'__all__': False}\n",
      "Actions: {'0': array([0.8605436], dtype=float32), '1': array([0.43152714], dtype=float32)}\n",
      "Step:  {'gov': 0}, {'gov': 1.3946050592176418}, {'__all__': True}\n",
      "Reset: {'gov': 0}\n",
      "Test finished!\n"
     ]
    }
   ],
   "source": [
    "env_config = { 'action_space': gym.spaces.Box(0.0, 1.0)}\n",
    "\n",
    "test_environment(UniformlyRestrictedEnvironment({ 'env': DummyEnvironment, 'env_config': env_config, 'governance_action_space': gym.spaces.Box(0.0, 1.0)}))"
   ]
  },
  {
   "cell_type": "code",
   "execution_count": null,
   "outputs": [],
   "source": [],
   "metadata": {
    "collapsed": false
   }
  }
 ],
 "metadata": {
  "kernelspec": {
   "display_name": ".venv",
   "language": "python",
   "name": "python3"
  },
  "language_info": {
   "codemirror_mode": {
    "name": "ipython",
    "version": 3
   },
   "file_extension": ".py",
   "mimetype": "text/x-python",
   "name": "python",
   "nbconvert_exporter": "python",
   "pygments_lexer": "ipython3",
   "version": "3.9.16"
  },
  "orig_nbformat": 4
 },
 "nbformat": 4,
 "nbformat_minor": 2
}
