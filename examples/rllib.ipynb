{
 "cells": [
  {
   "cell_type": "code",
   "execution_count": null,
   "metadata": {},
   "outputs": [],
   "source": [
    "import gymnasium as gym\n",
    "\n",
    "from envs.rllib import DummyEnvironment\n",
    "from src.wrappers.rllib import UniformlyRestrictedDiscreteEnvironment\n",
    "from src.utils import test_environment"
   ]
  },
  {
   "cell_type": "code",
   "execution_count": null,
   "metadata": {},
   "outputs": [],
   "source": [
    "test_environment(DummyEnvironment)"
   ]
  },
  {
   "cell_type": "code",
   "execution_count": null,
   "metadata": {},
   "outputs": [],
   "source": [
    "env_config = { 'action_space': gym.spaces.Discrete(3) }\n",
    "\n",
    "test_environment(UniformlyRestrictedDiscreteEnvironment({ 'env': DummyEnvironment, 'env_config': env_config }))"
   ]
  }
 ],
 "metadata": {
  "language_info": {
   "name": "python"
  },
  "orig_nbformat": 4
 },
 "nbformat": 4,
 "nbformat_minor": 2
}
