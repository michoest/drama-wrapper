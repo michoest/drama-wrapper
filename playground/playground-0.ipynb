{
 "cells": [
  {
   "attachments": {},
   "cell_type": "markdown",
   "metadata": {},
   "source": [
    "# Playground"
   ]
  },
  {
   "attachments": {},
   "cell_type": "markdown",
   "metadata": {},
   "source": [
    "## Setup"
   ]
  },
  {
   "cell_type": "code",
   "execution_count": 1,
   "metadata": {},
   "outputs": [],
   "source": [
    "%load_ext autoreload\n",
    "%autoreload 2"
   ]
  },
  {
   "cell_type": "code",
   "execution_count": 2,
   "metadata": {},
   "outputs": [],
   "source": [
    "import os\n",
    "import sys\n",
    "sys.path.append(f'{os.getcwd()}/../')"
   ]
  },
  {
   "cell_type": "code",
   "execution_count": 3,
   "metadata": {},
   "outputs": [],
   "source": [
    "from gymnasium.spaces import Discrete\n",
    "\n",
    "from src.wrapper import RestrictionWrapper\n",
    "from examples.envs.rps import RPSEnvironment\n",
    "from examples.utils import play, restriction_aware_random_policy"
   ]
  },
  {
   "attachments": {},
   "cell_type": "markdown",
   "metadata": {},
   "source": [
    "## Rock/Paper/Scissors"
   ]
  },
  {
   "attachments": {},
   "cell_type": "markdown",
   "metadata": {},
   "source": [
    "### Restrictor"
   ]
  },
  {
   "cell_type": "code",
   "execution_count": 4,
   "metadata": {},
   "outputs": [],
   "source": [
    "from src.restrictions import DiscreteSetRestriction\n",
    "from src.restrictors import RestrictorActionSpace, Restrictor\n",
    "\n",
    "\n",
    "class RPSRestrictor(Restrictor):\n",
    "    def __init__(self) -> None:\n",
    "        super().__init__(observation_space=Discrete(1), action_space=RestrictorActionSpace(Discrete(3)))\n",
    "\n",
    "    def preprocess_observation(self, env):\n",
    "        # This functions 'flattens' the environment into a valid space while preserving all information that the restrictor needs\n",
    "        return {'agent': env.agent_selection, 'last_action': int(\n",
    "            env.observe(env.possible_agents[1 - env.agent_name_mapping[env.agent_selection]]))}\n",
    "\n",
    "    def act(self, observation):\n",
    "        # Structure of observation is defined by self.preprocess_observation\n",
    "        agent, last_action = observation['agent'], observation['last_action']\n",
    "\n",
    "        return DiscreteSetRestriction(Discrete(3), allowed_actions={0, 1, 2} - {last_action})\n",
    "    \n",
    "class DummyRPSRestrictor(Restrictor):\n",
    "    def __init__(self) -> None:\n",
    "        super().__init__(observation_space=Discrete(1), action_space=RestrictorActionSpace(Discrete(3)))\n",
    "\n",
    "    def act(self, observation):\n",
    "        return DiscreteSetRestriction(Discrete(3))"
   ]
  },
  {
   "attachments": {},
   "cell_type": "markdown",
   "metadata": {},
   "source": [
    "### Action Policies"
   ]
  },
  {
   "cell_type": "code",
   "execution_count": 5,
   "metadata": {},
   "outputs": [],
   "source": [
    "def create_rps_policies(env, restrictors):\n",
    "    return {**{agent: restriction_aware_random_policy for agent in env.possible_agents}, **{id: restrictor.act for id, restrictor in restrictors.items()}}"
   ]
  },
  {
   "attachments": {},
   "cell_type": "markdown",
   "metadata": {},
   "source": [
    "### Execution"
   ]
  },
  {
   "attachments": {},
   "cell_type": "markdown",
   "metadata": {},
   "source": [
    "#### RestrictionWrapper"
   ]
  },
  {
   "cell_type": "code",
   "execution_count": 6,
   "metadata": {},
   "outputs": [
    {
     "name": "stdout",
     "output_type": "stream",
     "text": [
      "player_0: NONE, player_1: NONE\n",
      "player_0: PAPER, player_1: NONE\n",
      "player_0: PAPER, player_1: SCISSORS\n",
      "player_0: SCISSORS, player_1: NONE\n",
      "player_0: SCISSORS, player_1: PAPER\n",
      "player_0: ROCK, player_1: NONE\n",
      "player_0: ROCK, player_1: SCISSORS\n",
      "player_0: SCISSORS, player_1: NONE\n",
      "player_0: SCISSORS, player_1: PAPER\n",
      "player_0: PAPER, player_1: NONE\n",
      "player_0: PAPER, player_1: ROCK\n",
      "player_0: SCISSORS, player_1: NONE\n",
      "player_0: SCISSORS, player_1: PAPER\n",
      "player_0: ROCK, player_1: NONE\n",
      "player_0: ROCK, player_1: ROCK\n",
      "player_0: PAPER, player_1: NONE\n",
      "player_0: PAPER, player_1: PAPER\n",
      "player_0: SCISSORS, player_1: NONE\n",
      "player_0: SCISSORS, player_1: ROCK\n",
      "player_0: ROCK, player_1: NONE\n",
      "player_0: ROCK, player_1: SCISSORS\n",
      "Game over\n"
     ]
    }
   ],
   "source": [
    "env = RPSEnvironment(render_mode='human')\n",
    "restrictor = RPSRestrictor() # Restrictor blocks each player's last action\n",
    "wrapper = RestrictionWrapper(env, restrictor,\n",
    "                             preprocess_restrictor_observation_fns=restrictor.preprocess_observation)\n",
    "\n",
    "play(wrapper, create_rps_policies(env, {'restrictor_0': restrictor}))"
   ]
  },
  {
   "attachments": {},
   "cell_type": "markdown",
   "metadata": {},
   "source": [
    "#### MultiRestrictionWrapper"
   ]
  },
  {
   "cell_type": "code",
   "execution_count": 7,
   "metadata": {},
   "outputs": [
    {
     "name": "stdout",
     "output_type": "stream",
     "text": [
      "player_0: NONE, player_1: NONE\n",
      "player_0: SCISSORS, player_1: NONE\n",
      "player_0: SCISSORS, player_1: PAPER\n",
      "player_0: ROCK, player_1: NONE\n",
      "player_0: ROCK, player_1: SCISSORS\n",
      "player_0: SCISSORS, player_1: NONE\n",
      "player_0: SCISSORS, player_1: PAPER\n",
      "player_0: ROCK, player_1: NONE\n",
      "player_0: ROCK, player_1: PAPER\n",
      "player_0: SCISSORS, player_1: NONE\n",
      "player_0: SCISSORS, player_1: ROCK\n",
      "player_0: PAPER, player_1: NONE\n",
      "player_0: PAPER, player_1: SCISSORS\n",
      "player_0: SCISSORS, player_1: NONE\n",
      "player_0: SCISSORS, player_1: SCISSORS\n",
      "player_0: ROCK, player_1: NONE\n",
      "player_0: ROCK, player_1: SCISSORS\n",
      "player_0: SCISSORS, player_1: NONE\n",
      "player_0: SCISSORS, player_1: ROCK\n",
      "player_0: PAPER, player_1: NONE\n",
      "player_0: PAPER, player_1: ROCK\n",
      "Game over\n"
     ]
    }
   ],
   "source": [
    "env = RPSEnvironment(render_mode='human')\n",
    "restrictors = {\n",
    "    'restrictor_0': RPSRestrictor(), # Restrictor blocks each player's last action\n",
    "    'restrictor_1': DummyRPSRestrictor()\n",
    "}\n",
    "\n",
    "wrapper = RestrictionWrapper(env, restrictors,\n",
    "                             agent_restrictor_mapping={'player_0': 'restrictor_0', 'player_1': 'restrictor_1'},\n",
    "                             preprocess_restrictor_observation_fns={'restrictor_0': restrictors['restrictor_0']\n",
    "                             .preprocess_observation})\n",
    "\n",
    "play(wrapper, create_rps_policies(env, restrictors))"
   ]
  },
  {
   "cell_type": "code",
   "execution_count": null,
   "outputs": [],
   "source": [],
   "metadata": {
    "collapsed": false
   }
  }
 ],
 "metadata": {
  "kernelspec": {
   "display_name": ".venv",
   "language": "python",
   "name": "python3"
  },
  "language_info": {
   "codemirror_mode": {
    "name": "ipython",
    "version": 3
   },
   "file_extension": ".py",
   "mimetype": "text/x-python",
   "name": "python",
   "nbconvert_exporter": "python",
   "pygments_lexer": "ipython3",
   "version": "3.11.3"
  },
  "orig_nbformat": 4
 },
 "nbformat": 4,
 "nbformat_minor": 2
}
