{
 "cells": [
  {
   "attachments": {},
   "cell_type": "markdown",
   "metadata": {},
   "source": [
    "# Playground"
   ]
  },
  {
   "attachments": {},
   "cell_type": "markdown",
   "metadata": {},
   "source": [
    "## Setup"
   ]
  },
  {
   "cell_type": "code",
   "execution_count": null,
   "metadata": {},
   "outputs": [],
   "source": [
    "%load_ext autoreload\n",
    "%autoreload 2"
   ]
  },
  {
   "cell_type": "code",
   "execution_count": null,
   "metadata": {},
   "outputs": [],
   "source": [
    "import os\n",
    "import sys\n",
    "sys.path.append(f'{os.getcwd()}/../')"
   ]
  },
  {
   "cell_type": "code",
   "execution_count": 164,
   "metadata": {},
   "outputs": [],
   "source": [
    "from typing import Union, Optional, Any, Set\n",
    "from abc import ABC\n",
    "\n",
    "import random\n",
    "\n",
    "import gymnasium\n",
    "import numpy as np\n",
    "from numpy.random import Generator\n",
    "import gymnasium.spaces\n",
    "from gymnasium.spaces import Discrete\n",
    "\n",
    "from pettingzoo import AECEnv\n",
    "\n",
    "from src.wrapper import RestrictionWrapper\n",
    "from src.multi_restriction_wrapper import MultiRestrictionWrapper\n",
    "from examples.envs.rps import RPSEnvironment\n",
    "from examples.utils import play, restriction_aware_random_policy"
   ]
  },
  {
   "attachments": {},
   "cell_type": "markdown",
   "metadata": {},
   "source": [
    "## Restriction"
   ]
  },
  {
   "cell_type": "code",
   "execution_count": null,
   "metadata": {},
   "outputs": [],
   "source": [
    "class Restriction(ABC, gymnasium.Space):\n",
    "    def __init__(self, base_space: gymnasium.Space, *, seed: int | np.random.Generator | None = None):\n",
    "        super().__init__(base_space.shape, base_space.dtype, seed)\n",
    "        self.base_space = base_space\n",
    "\n",
    "    def __repr__(self) -> str:\n",
    "        return f'{self.__class__.__name__}'\n",
    "\n",
    "class DiscreteRestriction(Restriction):\n",
    "    def __init__(self, base_space: gymnasium.spaces.Discrete, *, seed: int | np.random.Generator | None = None):\n",
    "        super().__init__(base_space, seed=seed)\n",
    "\n",
    "class ContinuousRestriction(Restriction):\n",
    "    def __init__(self, base_space: gymnasium.spaces.Box, *, seed: int | np.random.Generator | None = None):\n",
    "        super().__init__(base_space, seed=seed)\n",
    "\n",
    "class DiscreteSetRestriction(DiscreteRestriction):\n",
    "    def __init__(self, base_space: gymnasium.spaces.Discrete, *, allowed_actions: Optional[Set[int]] = None, seed: int | np.random.Generator | None = None):\n",
    "        super().__init__(base_space, seed=seed)\n",
    "        \n",
    "        self.allowed_actions = allowed_actions if allowed_actions is not None else set(range(base_space.start, base_space.start + base_space.n))\n",
    "\n",
    "    @property\n",
    "    def is_np_flattenable(self) -> bool:\n",
    "        return True\n",
    "    \n",
    "    def sample(self) -> int:\n",
    "        return random.choice(tuple(self.allowed_actions))\n",
    "\n",
    "    def contains(self, x: int) -> bool:\n",
    "        return x in self.allowed_actions\n",
    "    \n",
    "    def __repr__(self) -> str:\n",
    "        return f'{self.__class__.__name__}({self.allowed_actions})'\n",
    "\n",
    "class DiscreteVectorRestriction(DiscreteRestriction):\n",
    "    def __init__(self, base_space: gymnasium.spaces.Discrete, *, allowed_actions: Optional[np.ndarray[bool]] = None, seed: int | np.random.Generator | None = None):\n",
    "        super().__init__(base_space, seed=seed)\n",
    "        \n",
    "        self.allowed_actions = allowed_actions if allowed_actions is not None else set(range(base_space.start, base_space.start + base_space.n))\n",
    "\n",
    "    @property\n",
    "    def is_np_flattenable(self) -> bool:\n",
    "        return True\n",
    "    \n",
    "    def sample(self) -> int:\n",
    "        return self.start + random.choice(tuple(index for index, value in enumerate(self.allowed_actions) if value))\n",
    "\n",
    "    def contains(self, x: int) -> bool:\n",
    "        return self.allowed_actions[x - self.start]\n",
    "    \n",
    "    def __repr__(self) -> str:\n",
    "        return f'{self.__class__.__name__}({self.allowed_actions})'\n",
    "\n",
    "class IntervalUnionRestriction(ContinuousRestriction):\n",
    "    pass"
   ]
  },
  {
   "attachments": {},
   "cell_type": "markdown",
   "metadata": {},
   "source": [
    "## Restrictor Action Space"
   ]
  },
  {
   "cell_type": "code",
   "execution_count": null,
   "metadata": {},
   "outputs": [],
   "source": [
    "class RestrictorActionSpace(gymnasium.Space):\n",
    "    def __init__(self, base_space: gymnasium.Space, seed: int | Generator | None = None):\n",
    "        super().__init__(None, None, seed)\n",
    "        self.base_space = base_space\n",
    "\n",
    "    def contains(self, x: Restriction) -> bool:\n",
    "        return x.base_space == self.base_space\n",
    "    \n",
    "    def sample(self, mask: Any | None = None) -> Any:\n",
    "        return self.base_space\n",
    "\n",
    "    def is_compatible_with(self, action_space):\n",
    "        return self.base_space == action_space"
   ]
  },
  {
   "attachments": {},
   "cell_type": "markdown",
   "metadata": {},
   "source": [
    "## Rock/Paper/Scissors"
   ]
  },
  {
   "attachments": {},
   "cell_type": "markdown",
   "metadata": {},
   "source": [
    "### Restrictor"
   ]
  },
  {
   "cell_type": "code",
   "execution_count": null,
   "metadata": {},
   "outputs": [],
   "source": [
    "class Restrictor:\n",
    "    default_restriction_classes = {\n",
    "        gymnasium.spaces.Discrete: DiscreteSetRestriction,\n",
    "        gymnasium.spaces.Box: IntervalUnionRestriction\n",
    "    }\n",
    "\n",
    "    def __init__(self, env, restriction_classes=None) -> None:\n",
    "        self.action_spaces = {agent: env.action_space(agent) for agent in env.possible_agents}\n",
    "        self.restriction_classes = restriction_classes or self.default_restriction_classes\n",
    "\n",
    "class RPSRestrictor(Restrictor):\n",
    "    def __init__(self, env, restriction_classes=None) -> None:\n",
    "        super().__init__(env, restriction_classes=restriction_classes)\n",
    "\n",
    "        self.observation_space = Discrete(1)\n",
    "        self.action_space = RestrictorActionSpace(Discrete(3))\n",
    "\n",
    "    def preprocess_observation(self, env):\n",
    "        # This functions 'flattens' the environment into a valid space while preserving all information that the restrictor needs\n",
    "        return {'agent': env.agent_selection, 'last_action': int(env.observe(env.possible_agents[1 - env.agent_name_mapping[env.agent_selection]]))}\n",
    "\n",
    "    def act(self, observation):\n",
    "        # Structure of observation is defined by self.preprocess_observation\n",
    "        agent, last_action = observation['agent'], observation['last_action']\n",
    "\n",
    "        return DiscreteSetRestriction(Discrete(3), allowed_actions={0, 1, 2} - {last_action})\n",
    "    \n",
    "class DummyRPSRestrictor(Restrictor):\n",
    "    def __init__(self) -> None:\n",
    "        # TODO: Create concept for observation space handling\n",
    "        self.observation_space = Discrete(1)\n",
    "        self.action_space = RestrictorActionSpace(Discrete(3))\n",
    "\n",
    "    def act(self, observation):\n",
    "        return DiscreteSetRestriction(Discrete(3))"
   ]
  },
  {
   "attachments": {},
   "cell_type": "markdown",
   "metadata": {},
   "source": [
    "### Action Policies"
   ]
  },
  {
   "cell_type": "code",
   "execution_count": null,
   "metadata": {},
   "outputs": [],
   "source": [
    "def create_rps_policies(env, restrictors):\n",
    "    return {**{agent: restriction_aware_random_policy for agent in env.possible_agents}, **{id: restrictor.act for id, restrictor in restrictors.items()}}"
   ]
  },
  {
   "attachments": {},
   "cell_type": "markdown",
   "metadata": {},
   "source": [
    "### Execution"
   ]
  },
  {
   "attachments": {},
   "cell_type": "markdown",
   "metadata": {},
   "source": [
    "#### RestrictionWrapper"
   ]
  },
  {
   "cell_type": "code",
   "execution_count": 165,
   "metadata": {},
   "outputs": [
    {
     "name": "stdout",
     "output_type": "stream",
     "text": [
      "player_0: NONE, player_1: NONE\n",
      "player_0: SCISSORS, player_1: NONE\n",
      "player_0: SCISSORS, player_1: PAPER\n",
      "player_0: PAPER, player_1: NONE\n",
      "player_0: PAPER, player_1: SCISSORS\n",
      "player_0: SCISSORS, player_1: NONE\n",
      "player_0: SCISSORS, player_1: ROCK\n",
      "player_0: PAPER, player_1: NONE\n",
      "player_0: PAPER, player_1: PAPER\n",
      "player_0: ROCK, player_1: NONE\n",
      "player_0: ROCK, player_1: ROCK\n",
      "player_0: SCISSORS, player_1: NONE\n",
      "player_0: SCISSORS, player_1: PAPER\n",
      "player_0: ROCK, player_1: NONE\n",
      "player_0: ROCK, player_1: ROCK\n",
      "player_0: PAPER, player_1: NONE\n",
      "player_0: PAPER, player_1: SCISSORS\n",
      "player_0: SCISSORS, player_1: NONE\n",
      "player_0: SCISSORS, player_1: ROCK\n",
      "player_0: PAPER, player_1: NONE\n",
      "player_0: PAPER, player_1: SCISSORS\n",
      "Game over\n"
     ]
    }
   ],
   "source": [
    "env = RPSEnvironment(render_mode='human')\n",
    "restrictor = RPSRestrictor(env) # Restrictor blocks each player's last action\n",
    "wrapper = RestrictionWrapper(env, preprocess_restrictor_observation_fn=restrictor.preprocess_observation)\n",
    "\n",
    "play(wrapper, create_rps_policies(env, {'restrictor_0': restrictor}))"
   ]
  },
  {
   "attachments": {},
   "cell_type": "markdown",
   "metadata": {},
   "source": [
    "#### MultiRestrictionWrapper"
   ]
  },
  {
   "cell_type": "code",
   "execution_count": null,
   "metadata": {},
   "outputs": [],
   "source": [
    "env = RPSEnvironment(render_mode='human')\n",
    "restrictors = {\n",
    "    'restrictor_0': RPSRestrictor(env), # Restrictor blocks each player's last action\n",
    "    'restrictor_1': DummyRPSRestrictor()\n",
    "}\n",
    "\n",
    "wrapper = MultiRestrictionWrapper(env, restrictors, \n",
    "                                  {'player_0': 'restrictor_0', 'player_1': 'restrictor_1'}, \n",
    "                                  preprocess_restrictor_observation_fns={'restrictor_0': restrictors['restrictor_0'].preprocess_observation})\n",
    "\n",
    "play(wrapper, create_rps_policies(env, restrictors))"
   ]
  }
 ],
 "metadata": {
  "kernelspec": {
   "display_name": ".venv",
   "language": "python",
   "name": "python3"
  },
  "language_info": {
   "codemirror_mode": {
    "name": "ipython",
    "version": 3
   },
   "file_extension": ".py",
   "mimetype": "text/x-python",
   "name": "python",
   "nbconvert_exporter": "python",
   "pygments_lexer": "ipython3",
   "version": "3.11.3"
  },
  "orig_nbformat": 4
 },
 "nbformat": 4,
 "nbformat_minor": 2
}
