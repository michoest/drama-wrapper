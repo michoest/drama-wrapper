{
 "cells": [
  {
   "cell_type": "code",
   "execution_count": 1,
   "outputs": [],
   "source": [
    "import numpy as np\n",
    "\n",
    "from src.wrapper import RestrictionWrapper\n",
    "from examples.agents.td3 import TD3\n",
    "from examples.envs.navigation import NavigationEnvironment\n",
    "from examples.restrictors.navigation_restrictor import NavigationRestrictor\n",
    "from examples.utils import ReplayBuffer"
   ],
   "metadata": {
    "collapsed": false
   }
  },
  {
   "cell_type": "code",
   "execution_count": 2,
   "outputs": [],
   "source": [
    "env_config = {\n",
    "    'STEPS_PER_EPISODE': 40,\n",
    "    'ACTION_RANGE': 220,\n",
    "    'DT': 1.0,\n",
    "    'REWARD': {\n",
    "        'TIMESTEP_PENALTY_COEFFICIENT': 0.05,\n",
    "        'REWARD_COEFFICIENT': 5.0,\n",
    "        'GOAL': 50,\n",
    "        'COLLISION': -20.0\n",
    "    },\n",
    "    'MAP': {\n",
    "        'HEIGHT': 15.0,\n",
    "        'WIDTH': 15.0,\n",
    "        'AGENT': {'x': 1.0, 'y': 1.0, 'angle': 90.0, 'step_size': 1.0, 'radius': 0.4},\n",
    "        'GOAL': {'x': 12.0, 'y': 12.0, 'radius': 0.5}\n",
    "    }\n",
    "}\n",
    "restrictor = NavigationRestrictor(4, [[5.0, 0.0], [0.0, 5.0]], 1.0, 0.2, 0.5, 50, 8, -110.0, 110.0)\n",
    "environment = NavigationEnvironment(env_config)\n",
    "\n",
    "restricted_environment = RestrictionWrapper(environment, restrictor)"
   ],
   "metadata": {
    "collapsed": false
   }
  },
  {
   "cell_type": "code",
   "execution_count": 3,
   "outputs": [],
   "source": [
    "td3_config = {\n",
    "    'state_dim': 9,\n",
    "    'action_dim': 1,\n",
    "    'max_action': 220.0,\n",
    "    'discount': 0.99,\n",
    "    'tau': 0.005,\n",
    "    'policy_noise': 0.2,\n",
    "    'noise_clip:': 0.5,\n",
    "    'policy_freq': 2,\n",
    "    'exploration_noise': 0.05,\n",
    "    'batch_size': 64,\n",
    "    'train_after_timesteps': 2000\n",
    "}\n",
    "\n",
    "td3 = TD3(**td3_config)\n",
    "replay_buffer = ReplayBuffer(state_dim=9, action_dim=1)"
   ],
   "metadata": {
    "collapsed": false
   }
  },
  {
   "cell_type": "code",
   "execution_count": 23,
   "outputs": [
    {
     "ename": "TypeError",
     "evalue": "float() argument must be a string or a real number, not 'dict'",
     "output_type": "error",
     "traceback": [
      "\u001B[0;31m---------------------------------------------------------------------------\u001B[0m",
      "\u001B[0;31mTypeError\u001B[0m                                 Traceback (most recent call last)",
      "Cell \u001B[0;32mIn[23], line 17\u001B[0m\n\u001B[1;32m     15\u001B[0m episode_timesteps \u001B[38;5;241m+\u001B[39m\u001B[38;5;241m=\u001B[39m \u001B[38;5;241m1\u001B[39m\n\u001B[1;32m     16\u001B[0m \u001B[38;5;28;01mif\u001B[39;00m episode_timesteps \u001B[38;5;241m>\u001B[39m \u001B[38;5;241m1\u001B[39m:\n\u001B[0;32m---> 17\u001B[0m     \u001B[43mreplay_buffer\u001B[49m\u001B[38;5;241;43m.\u001B[39;49m\u001B[43madd\u001B[49m\u001B[43m(\u001B[49m\u001B[43mobservation\u001B[49m\u001B[43m,\u001B[49m\u001B[43m \u001B[49m\u001B[43maction\u001B[49m\u001B[43m,\u001B[49m\u001B[43m \u001B[49m\u001B[43mnext_observation\u001B[49m\u001B[43m,\u001B[49m\u001B[43m \u001B[49m\u001B[43mreward\u001B[49m\u001B[43m,\u001B[49m\u001B[43m \u001B[49m\u001B[43mtermination\u001B[49m\u001B[43m)\u001B[49m\n\u001B[1;32m     18\u001B[0m observation \u001B[38;5;241m=\u001B[39m next_observation\n\u001B[1;32m     20\u001B[0m training_timesteps \u001B[38;5;241m+\u001B[39m\u001B[38;5;241m=\u001B[39m \u001B[38;5;241m1\u001B[39m\n",
      "File \u001B[0;32m~/Documents/Institute for Enterprise Systems/HiWi/hicss-2024/examples/utils.py:57\u001B[0m, in \u001B[0;36mReplayBuffer.add\u001B[0;34m(self, state, action, next_state, reward, done)\u001B[0m\n\u001B[1;32m     56\u001B[0m \u001B[38;5;28;01mdef\u001B[39;00m \u001B[38;5;21madd\u001B[39m(\u001B[38;5;28mself\u001B[39m, state, action, next_state, reward, done):\n\u001B[0;32m---> 57\u001B[0m     \u001B[38;5;28mself\u001B[39m\u001B[38;5;241m.\u001B[39mstate[\u001B[38;5;28mself\u001B[39m\u001B[38;5;241m.\u001B[39mptr] \u001B[38;5;241m=\u001B[39m state\n\u001B[1;32m     58\u001B[0m     \u001B[38;5;28mself\u001B[39m\u001B[38;5;241m.\u001B[39maction[\u001B[38;5;28mself\u001B[39m\u001B[38;5;241m.\u001B[39mptr] \u001B[38;5;241m=\u001B[39m action\n\u001B[1;32m     59\u001B[0m     \u001B[38;5;28mself\u001B[39m\u001B[38;5;241m.\u001B[39mnext_state[\u001B[38;5;28mself\u001B[39m\u001B[38;5;241m.\u001B[39mptr] \u001B[38;5;241m=\u001B[39m next_state\n",
      "\u001B[0;31mTypeError\u001B[0m: float() argument must be a string or a real number, not 'dict'"
     ]
    }
   ],
   "source": [
    "episode_reward = 0\n",
    "episode_timesteps = 0\n",
    "episode_num = 0\n",
    "training_timesteps = 0\n",
    "\n",
    "restricted_environment.reset()\n",
    "\n",
    "for agent in restricted_environment.agent_iter():\n",
    "    next_observation, reward, termination, truncation, info = restricted_environment.last()\n",
    "\n",
    "    # None action if episode is done\n",
    "    if termination or truncation:\n",
    "        action = None\n",
    "    # Turn of the agent\n",
    "    elif agent == 'agent_0':\n",
    "        episode_reward += reward\n",
    "        episode_timesteps += 1\n",
    "        if episode_timesteps > 1:\n",
    "            replay_buffer.add(observation, action, next_observation, reward, termination)\n",
    "        observation = next_observation\n",
    "\n",
    "        training_timesteps += 1\n",
    "        if training_timesteps < td3_config['train_after_timesteps']:\n",
    "                action = restricted_environment.action_space(agent).sample()\n",
    "        else:\n",
    "            action = (\n",
    "                td3.select_action(np.array(observation))\n",
    "                + np.random.normal(0, td3_config['max_action'] * td3_config['exploration_noise'], size=td3_config['action_dim'])\n",
    "            ).clip(-td3_config['max_action'], td3_config['max_action'])\n",
    "\n",
    "        if training_timesteps >= td3_config['train_after_timesteps']:\n",
    "            td3.train(replay_buffer, td3_config['batch_size'])\n",
    "    # Or restrictor\n",
    "    else:\n",
    "        action = restrictor.act(next_observation)\n",
    "\n",
    "    restricted_environment.step(action)\n",
    "\n",
    "restricted_environment.close()"
   ],
   "metadata": {
    "collapsed": false
   }
  },
  {
   "cell_type": "code",
   "execution_count": null,
   "outputs": [],
   "source": [],
   "metadata": {
    "collapsed": false
   }
  }
 ],
 "metadata": {
  "kernelspec": {
   "display_name": "Python 3",
   "language": "python",
   "name": "python3"
  },
  "language_info": {
   "codemirror_mode": {
    "name": "ipython",
    "version": 2
   },
   "file_extension": ".py",
   "mimetype": "text/x-python",
   "name": "python",
   "nbconvert_exporter": "python",
   "pygments_lexer": "ipython2",
   "version": "2.7.6"
  }
 },
 "nbformat": 4,
 "nbformat_minor": 0
}
