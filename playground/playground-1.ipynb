{
 "cells": [
  {
   "cell_type": "code",
   "execution_count": 1,
   "metadata": {},
   "outputs": [],
   "source": [
    "%load_ext autoreload\n",
    "%autoreload 2"
   ]
  },
  {
   "cell_type": "code",
   "execution_count": 2,
   "metadata": {},
   "outputs": [],
   "source": [
    "import os\n",
    "import sys\n",
    "sys.path.append(f'{os.getcwd()}/../')"
   ]
  },
  {
   "cell_type": "code",
   "execution_count": 8,
   "metadata": {},
   "outputs": [],
   "source": [
    "import numpy as np\n",
    "from numpy.random import Generator\n",
    "from gymnasium.spaces import Box\n",
    "\n",
    "from src.wrapper import RestrictionWrapper\n",
    "from src.restrictors import Restrictor\n",
    "from src.restrictions import IntervalUnionRestriction\n",
    "\n",
    "from examples.envs.nfg import NFGEnvironment\n",
    "from examples.utils import play"
   ]
  },
  {
   "cell_type": "code",
   "execution_count": 4,
   "metadata": {},
   "outputs": [],
   "source": [
    "observation_spaces = {'player_0': Box(0, 120), 'player_1': Box(0, 120)}\n",
    "action_spaces = {'player_0': Box(0, 120), 'player_1': Box(0, 120)}\n",
    "utilities = {\n",
    "    'player_0': (lambda actions: -actions['player_0'] ** 2 - actions['player_0'] * actions['player_1'] + 108 * actions['player_0']), \n",
    "    'player_1': (lambda actions: -actions['player_1'] ** 2 - actions['player_0'] * actions['player_1'] + 108 * actions['player_1'])}\n",
    "\n",
    "env = NFGEnvironment(observation_spaces, action_spaces, utilities, 10, render_mode='human')"
   ]
  },
  {
   "attachments": {},
   "cell_type": "markdown",
   "metadata": {},
   "source": [
    "## Play without wrapper"
   ]
  },
  {
   "cell_type": "code",
   "execution_count": 5,
   "metadata": {},
   "outputs": [
    {
     "name": "stdout",
     "output_type": "stream",
     "text": [
      "player_0: None, player_1: None\n",
      "observation=array([None], dtype=object)\n",
      "player_0: 66, player_1: None\n",
      "observation=array([66])\n",
      "66\n",
      "player_0: 66, player_1: 21.0\n",
      "observation=array([21.])\n",
      "21.0\n",
      "player_0: 43.5, player_1: None\n",
      "observation=array([43.5])\n",
      "43.5\n",
      "player_0: 43.5, player_1: 32.25\n",
      "observation=array([32.25])\n",
      "32.25\n",
      "player_0: 37.875, player_1: None\n",
      "observation=array([37.875])\n",
      "37.875\n",
      "player_0: 37.875, player_1: 35.0625\n",
      "observation=array([35.0625])\n",
      "35.0625\n",
      "player_0: 36.46875, player_1: None\n",
      "observation=array([36.46875])\n",
      "36.46875\n",
      "player_0: 36.46875, player_1: 35.765625\n",
      "observation=array([35.765625])\n",
      "35.765625\n",
      "player_0: 36.1171875, player_1: None\n",
      "observation=array([36.1171875])\n",
      "36.1171875\n",
      "player_0: 36.1171875, player_1: 35.94140625\n",
      "observation=array([35.94140625])\n",
      "35.94140625\n",
      "player_0: 36.029296875, player_1: None\n",
      "observation=array([36.02929688])\n",
      "36.029296875\n",
      "player_0: 36.029296875, player_1: 35.9853515625\n",
      "observation=array([35.98535156])\n",
      "35.9853515625\n",
      "player_0: 36.00732421875, player_1: None\n",
      "observation=array([36.00732422])\n",
      "36.00732421875\n",
      "player_0: 36.00732421875, player_1: 35.996337890625\n",
      "observation=array([35.99633789])\n",
      "35.996337890625\n",
      "player_0: 36.0018310546875, player_1: None\n",
      "observation=array([36.00183105])\n",
      "36.0018310546875\n",
      "player_0: 36.0018310546875, player_1: 35.99908447265625\n",
      "observation=array([35.99908447])\n",
      "35.99908447265625\n",
      "player_0: 36.000457763671875, player_1: None\n",
      "observation=array([36.00045776])\n",
      "36.000457763671875\n",
      "player_0: 36.000457763671875, player_1: 35.99977111816406\n",
      "observation=array([35.99977112])\n",
      "35.99977111816406\n",
      "player_0: 36.00011444091797, player_1: None\n",
      "observation=array([36.00011444])\n",
      "36.00011444091797\n",
      "player_0: 36.00011444091797, player_1: 35.999942779541016\n",
      "Game over\n"
     ]
    }
   ],
   "source": [
    "def agent_policy(observation):\n",
    "    print(f'{observation=}')\n",
    "    opponent_action = observation[0]\n",
    "    if opponent_action is None:\n",
    "        return np.random.randint(0, 121)\n",
    "    else:\n",
    "        print(opponent_action)\n",
    "        return np.clip(54 - opponent_action / 2, 0, 120)\n",
    "\n",
    "policies = {'player_0': agent_policy, 'player_1': agent_policy}\n",
    "play(env, policies)"
   ]
  },
  {
   "attachments": {},
   "cell_type": "markdown",
   "metadata": {},
   "source": [
    "## Play with wrapper"
   ]
  },
  {
   "cell_type": "code",
   "execution_count": 13,
   "metadata": {},
   "outputs": [],
   "source": [
    "class NFGRestrictor(Restrictor):\n",
    "    def __init__(self, observation_space, action_space) -> None:\n",
    "        super().__init__(observation_space=observation_space, action_space=action_space)\n",
    "\n",
    "    def act(self, observation) -> IntervalUnionRestriction:\n",
    "        # observation = env.state() since no preprocesssing was applied\n",
    "        return IntervalUnionRestriction(Box(0.0, 30.0))"
   ]
  },
  {
   "cell_type": "code",
   "execution_count": 14,
   "metadata": {},
   "outputs": [],
   "source": [
    "def restriction_aware_agent_policy(observation):\n",
    "    observation, restriction = observation['observation'], observation['restriction']\n",
    "\n",
    "    opponent_action = observation[0]\n",
    "    if opponent_action is None:\n",
    "        return np.random.randint(0, 121)\n",
    "    else:\n",
    "        print(opponent_action)\n",
    "        return np.clip(54 - opponent_action / 2, 0, 120)\n",
    "\n",
    "policies = {'player_0': restriction_aware_agent_policy, 'player_1': restriction_aware_agent_policy}"
   ]
  },
  {
   "cell_type": "code",
   "execution_count": 17,
   "metadata": {},
   "outputs": [
    {
     "name": "stdout",
     "output_type": "stream",
     "text": [
      "player_0: None, player_1: None\n",
      "player_0: 0, player_1: None\n",
      "0\n",
      "player_0: 0, player_1: 54.0\n",
      "54.0\n",
      "player_0: 27.0, player_1: None\n",
      "27.0\n",
      "player_0: 27.0, player_1: 40.5\n",
      "40.5\n",
      "player_0: 33.75, player_1: None\n",
      "33.75\n",
      "player_0: 33.75, player_1: 37.125\n",
      "37.125\n",
      "player_0: 35.4375, player_1: None\n",
      "35.4375\n",
      "player_0: 35.4375, player_1: 36.28125\n",
      "36.28125\n",
      "player_0: 35.859375, player_1: None\n",
      "35.859375\n",
      "player_0: 35.859375, player_1: 36.0703125\n",
      "36.0703125\n",
      "player_0: 35.96484375, player_1: None\n",
      "35.96484375\n",
      "player_0: 35.96484375, player_1: 36.017578125\n",
      "36.017578125\n",
      "player_0: 35.9912109375, player_1: None\n",
      "35.9912109375\n",
      "player_0: 35.9912109375, player_1: 36.00439453125\n",
      "36.00439453125\n",
      "player_0: 35.997802734375, player_1: None\n",
      "35.997802734375\n",
      "player_0: 35.997802734375, player_1: 36.0010986328125\n",
      "36.0010986328125\n",
      "player_0: 35.99945068359375, player_1: None\n",
      "35.99945068359375\n",
      "player_0: 35.99945068359375, player_1: 36.000274658203125\n",
      "36.000274658203125\n",
      "player_0: 35.99986267089844, player_1: None\n",
      "35.99986267089844\n",
      "player_0: 35.99986267089844, player_1: 36.00006866455078\n",
      "Game over\n"
     ]
    }
   ],
   "source": [
    "from src.restrictors import IntervalUnionActionSpace\n",
    "\n",
    "env = NFGEnvironment(observation_spaces, action_spaces, utilities, 10, render_mode='human')\n",
    "restrictor = NFGRestrictor(Box(0, 120), IntervalUnionActionSpace(Box(0, 120)))\n",
    "wrapper = RestrictionWrapper(env, restrictor)\n",
    "\n",
    "play(wrapper, policies={**policies, 'restrictor_0': restrictor.act})"
   ]
  },
  {
   "cell_type": "code",
   "execution_count": null,
   "outputs": [],
   "source": [],
   "metadata": {
    "collapsed": false
   }
  }
 ],
 "metadata": {
  "kernelspec": {
   "display_name": ".venv",
   "language": "python",
   "name": "python3"
  },
  "language_info": {
   "codemirror_mode": {
    "name": "ipython",
    "version": 3
   },
   "file_extension": ".py",
   "mimetype": "text/x-python",
   "name": "python",
   "nbconvert_exporter": "python",
   "pygments_lexer": "ipython3",
   "version": "3.11.3"
  },
  "orig_nbformat": 4
 },
 "nbformat": 4,
 "nbformat_minor": 2
}
