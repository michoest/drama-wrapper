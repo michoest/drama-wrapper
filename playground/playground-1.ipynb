{
 "cells": [
  {
   "cell_type": "code",
   "execution_count": 30,
   "metadata": {},
   "outputs": [
    {
     "name": "stdout",
     "output_type": "stream",
     "text": [
      "The autoreload extension is already loaded. To reload it, use:\n",
      "  %reload_ext autoreload\n"
     ]
    }
   ],
   "source": [
    "%load_ext autoreload\n",
    "%autoreload 2"
   ]
  },
  {
   "cell_type": "code",
   "execution_count": 31,
   "metadata": {},
   "outputs": [],
   "source": [
    "import os\n",
    "import sys\n",
    "sys.path.append(f'{os.getcwd()}/../')"
   ]
  },
  {
   "cell_type": "code",
   "execution_count": 32,
   "metadata": {},
   "outputs": [],
   "source": [
    "from typing import Union, Optional, Any, Set\n",
    "from abc import ABC\n",
    "\n",
    "import random\n",
    "\n",
    "import gymnasium\n",
    "import numpy as np\n",
    "from numpy.random import Generator\n",
    "import gymnasium.spaces\n",
    "from gymnasium.spaces import Discrete, Box\n",
    "\n",
    "from src.restrictor import Restrictor, RestrictorActionSpace\n",
    "from src.wrapper import RestrictionWrapper\n",
    "from src.restrictions import DiscreteSetRestriction, IntervalUnionRestriction\n",
    "\n",
    "from examples.envs.nfg import NFGEnvironment\n",
    "from examples.utils import play, restriction_aware_random_policy"
   ]
  },
  {
   "cell_type": "code",
   "execution_count": 33,
   "metadata": {},
   "outputs": [],
   "source": [
    "observation_spaces = {'player_0': Box(0, 120), 'player_1': Box(0, 120)}\n",
    "action_spaces = {'player_0': Box(0, 120), 'player_1': Box(0, 120)}\n",
    "utilities = {\n",
    "    'player_0': (lambda actions: -actions['player_0'] ** 2 - actions['player_0'] * actions['player_1'] + 108 * actions['player_0']), \n",
    "    'player_1': (lambda actions: -actions['player_1'] ** 2 - actions['player_0'] * actions['player_1'] + 108 * actions['player_1'])}\n",
    "\n",
    "env = NFGEnvironment(observation_spaces, action_spaces, utilities, 10, render_mode='human')"
   ]
  },
  {
   "attachments": {},
   "cell_type": "markdown",
   "metadata": {},
   "source": [
    "## Play without wrapper"
   ]
  },
  {
   "cell_type": "code",
   "execution_count": 37,
   "metadata": {},
   "outputs": [
    {
     "name": "stdout",
     "output_type": "stream",
     "text": [
      "player_0: None, player_1: None\n",
      "observation=array([None], dtype=object)\n",
      "player_0: 60, player_1: None\n",
      "observation=array([60])\n",
      "60\n",
      "player_0: 60, player_1: 24.0\n",
      "observation=array([24.])\n",
      "24.0\n",
      "player_0: 42.0, player_1: None\n",
      "observation=array([42.])\n",
      "42.0\n",
      "player_0: 42.0, player_1: 33.0\n",
      "observation=array([33.])\n",
      "33.0\n",
      "player_0: 37.5, player_1: None\n",
      "observation=array([37.5])\n",
      "37.5\n",
      "player_0: 37.5, player_1: 35.25\n",
      "observation=array([35.25])\n",
      "35.25\n",
      "player_0: 36.375, player_1: None\n",
      "observation=array([36.375])\n",
      "36.375\n",
      "player_0: 36.375, player_1: 35.8125\n",
      "observation=array([35.8125])\n",
      "35.8125\n",
      "player_0: 36.09375, player_1: None\n",
      "observation=array([36.09375])\n",
      "36.09375\n",
      "player_0: 36.09375, player_1: 35.953125\n",
      "observation=array([35.953125])\n",
      "35.953125\n",
      "player_0: 36.0234375, player_1: None\n",
      "observation=array([36.0234375])\n",
      "36.0234375\n",
      "player_0: 36.0234375, player_1: 35.98828125\n",
      "observation=array([35.98828125])\n",
      "35.98828125\n",
      "player_0: 36.005859375, player_1: None\n",
      "observation=array([36.00585938])\n",
      "36.005859375\n",
      "player_0: 36.005859375, player_1: 35.9970703125\n",
      "observation=array([35.99707031])\n",
      "35.9970703125\n",
      "player_0: 36.00146484375, player_1: None\n",
      "observation=array([36.00146484])\n",
      "36.00146484375\n",
      "player_0: 36.00146484375, player_1: 35.999267578125\n",
      "observation=array([35.99926758])\n",
      "35.999267578125\n",
      "player_0: 36.0003662109375, player_1: None\n",
      "observation=array([36.00036621])\n",
      "36.0003662109375\n",
      "player_0: 36.0003662109375, player_1: 35.99981689453125\n",
      "observation=array([35.99981689])\n",
      "35.99981689453125\n",
      "player_0: 36.000091552734375, player_1: None\n",
      "observation=array([36.00009155])\n",
      "36.000091552734375\n",
      "player_0: 36.000091552734375, player_1: 35.99995422363281\n",
      "Game over\n"
     ]
    }
   ],
   "source": [
    "def agent_policy(observation):\n",
    "    print(f'{observation=}')\n",
    "    opponent_action = observation[0]\n",
    "    if opponent_action is None:\n",
    "        return np.random.randint(0, 121)\n",
    "    else:\n",
    "        print(opponent_action)\n",
    "        return np.clip(54 - opponent_action / 2, 0, 120)\n",
    "\n",
    "policies = {'player_0': agent_policy, 'player_1': agent_policy}\n",
    "play(env, policies)"
   ]
  },
  {
   "attachments": {},
   "cell_type": "markdown",
   "metadata": {},
   "source": [
    "## Play with wrapper"
   ]
  },
  {
   "cell_type": "code",
   "execution_count": 43,
   "metadata": {},
   "outputs": [],
   "source": [
    "class NFGRestrictor(Restrictor):\n",
    "    def __init__(self) -> None:\n",
    "        super().__init__()\n",
    "\n",
    "    def act(self, observation):\n",
    "        # observation = env.state() since no preprocesssing was applied\n",
    "        return IntervalUnionRestriction(Box(0, 30))"
   ]
  },
  {
   "cell_type": "code",
   "execution_count": 44,
   "metadata": {},
   "outputs": [],
   "source": [
    "def restriction_aware_agent_policy(observation):\n",
    "    observation, restriction = observation['observation'], observation['restriction']\n",
    "\n",
    "    \n",
    "\n",
    "    opponent_action = observation[0]\n",
    "    if opponent_action is None:\n",
    "        return np.random.randint(0, 121)\n",
    "    else:\n",
    "        print(opponent_action)\n",
    "        return np.clip(54 - opponent_action / 2, 0, 120)\n",
    "\n",
    "policies = {'player_0': restriction_aware_agent_policy, 'player_1': restriction_aware_agent_policy}"
   ]
  },
  {
   "cell_type": "code",
   "execution_count": 45,
   "metadata": {},
   "outputs": [
    {
     "name": "stdout",
     "output_type": "stream",
     "text": [
      "player_0: None, player_1: None\n",
      "player_0: 74, player_1: None\n",
      "74\n",
      "player_0: 74, player_1: 17.0\n",
      "17.0\n",
      "player_0: 45.5, player_1: None\n",
      "45.5\n",
      "player_0: 45.5, player_1: 31.25\n",
      "31.25\n",
      "player_0: 38.375, player_1: None\n",
      "38.375\n",
      "player_0: 38.375, player_1: 34.8125\n",
      "34.8125\n",
      "player_0: 36.59375, player_1: None\n",
      "36.59375\n",
      "player_0: 36.59375, player_1: 35.703125\n",
      "35.703125\n",
      "player_0: 36.1484375, player_1: None\n",
      "36.1484375\n",
      "player_0: 36.1484375, player_1: 35.92578125\n",
      "35.92578125\n",
      "player_0: 36.037109375, player_1: None\n",
      "36.037109375\n",
      "player_0: 36.037109375, player_1: 35.9814453125\n",
      "35.9814453125\n",
      "player_0: 36.00927734375, player_1: None\n",
      "36.00927734375\n",
      "player_0: 36.00927734375, player_1: 35.995361328125\n",
      "35.995361328125\n",
      "player_0: 36.0023193359375, player_1: None\n",
      "36.0023193359375\n",
      "player_0: 36.0023193359375, player_1: 35.99884033203125\n",
      "35.99884033203125\n",
      "player_0: 36.000579833984375, player_1: None\n",
      "36.000579833984375\n",
      "player_0: 36.000579833984375, player_1: 35.99971008300781\n",
      "35.99971008300781\n",
      "player_0: 36.000144958496094, player_1: None\n",
      "36.000144958496094\n",
      "player_0: 36.000144958496094, player_1: 35.99992752075195\n",
      "Game over\n"
     ]
    }
   ],
   "source": [
    "env = NFGEnvironment(observation_spaces, action_spaces, utilities, 10, render_mode='human')\n",
    "restrictor = NFGRestrictor()\n",
    "wrapper = RestrictionWrapper(env)\n",
    "\n",
    "play(wrapper, policies={**policies, 'restrictor_0': restrictor.act})"
   ]
  },
  {
   "cell_type": "code",
   "execution_count": null,
   "metadata": {},
   "outputs": [],
   "source": []
  }
 ],
 "metadata": {
  "kernelspec": {
   "display_name": ".venv",
   "language": "python",
   "name": "python3"
  },
  "language_info": {
   "codemirror_mode": {
    "name": "ipython",
    "version": 3
   },
   "file_extension": ".py",
   "mimetype": "text/x-python",
   "name": "python",
   "nbconvert_exporter": "python",
   "pygments_lexer": "ipython3",
   "version": "3.11.3"
  },
  "orig_nbformat": 4
 },
 "nbformat": 4,
 "nbformat_minor": 2
}
