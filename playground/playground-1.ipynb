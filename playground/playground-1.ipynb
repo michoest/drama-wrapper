{
 "cells": [
  {
   "cell_type": "code",
   "execution_count": null,
   "metadata": {},
   "outputs": [],
   "source": [
    "%load_ext autoreload\n",
    "%autoreload 2"
   ]
  },
  {
   "cell_type": "code",
   "execution_count": null,
   "metadata": {},
   "outputs": [],
   "source": [
    "import os\n",
    "import sys\n",
    "sys.path.append(f'{os.getcwd()}/../')"
   ]
  },
  {
   "cell_type": "code",
   "execution_count": null,
   "metadata": {},
   "outputs": [],
   "source": [
    "from typing import Union, Optional, Any, Set\n",
    "from abc import ABC\n",
    "\n",
    "import random\n",
    "\n",
    "import gymnasium\n",
    "import numpy as np\n",
    "from numpy.random import Generator\n",
    "import gymnasium.spaces\n",
    "from gymnasium.spaces import Discrete, Box\n",
    "\n",
    "from src.restrictor import Restrictor, RestrictorActionSpace\n",
    "from src.wrapper import RestrictionWrapper\n",
    "from src.restriction import DiscreteSetRestriction, IntervalUnionRestriction, PredicateRestriction\n",
    "\n",
    "from examples.envs.nfg import NFGEnvironment\n",
    "from examples.utils import play, restriction_aware_random_policy"
   ]
  },
  {
   "cell_type": "code",
   "execution_count": null,
   "metadata": {},
   "outputs": [],
   "source": [
    "observation_spaces = {'player_0': Box(0, 120), 'player_1': Box(0, 120)}\n",
    "action_spaces = {'player_0': Box(0, 120), 'player_1': Box(0, 120)}\n",
    "utilities = {\n",
    "    'player_0': (lambda actions: -actions['player_0'] ** 2 - actions['player_0'] * actions['player_1'] + 108 * actions['player_0']), \n",
    "    'player_1': (lambda actions: -actions['player_1'] ** 2 - actions['player_0'] * actions['player_1'] + 108 * actions['player_1'])}\n",
    "\n",
    "env = NFGEnvironment(observation_spaces, action_spaces, utilities, 10, render_mode='human')"
   ]
  },
  {
   "attachments": {},
   "cell_type": "markdown",
   "metadata": {},
   "source": [
    "## Play without wrapper"
   ]
  },
  {
   "cell_type": "code",
   "execution_count": null,
   "metadata": {},
   "outputs": [],
   "source": [
    "def agent_policy(observation):\n",
    "    print(f'{observation=}')\n",
    "    opponent_action = observation[0]\n",
    "    if opponent_action is None:\n",
    "        return np.random.randint(0, 121)\n",
    "    else:\n",
    "        print(opponent_action)\n",
    "        return np.clip(54 - opponent_action / 2, 0, 120)\n",
    "\n",
    "policies = {'player_0': agent_policy, 'player_1': agent_policy}\n",
    "play(env, policies)"
   ]
  },
  {
   "attachments": {},
   "cell_type": "markdown",
   "metadata": {},
   "source": [
    "## Play with wrapper"
   ]
  },
  {
   "cell_type": "code",
   "execution_count": null,
   "metadata": {},
   "outputs": [],
   "source": [
    "class NFGRestrictor(Restrictor):\n",
    "    def __init__(self) -> None:\n",
    "        super().__init__()\n",
    "\n",
    "    def act(self, observation) -> RestrictorActionSpace:\n",
    "        # observation = env.state() since no preprocesssing was applied\n",
    "        return IntervalUnionRestriction(Box(0, 30))"
   ]
  },
  {
   "cell_type": "code",
   "execution_count": null,
   "metadata": {},
   "outputs": [],
   "source": [
    "def restriction_aware_agent_policy(observation):\n",
    "    observation, restriction = observation['observation'], observation['restriction']\n",
    "\n",
    "    opponent_action = observation[0]\n",
    "    if opponent_action is None:\n",
    "        return np.random.randint(0, 121)\n",
    "    else:\n",
    "        print(opponent_action)\n",
    "        return np.clip(54 - opponent_action / 2, 0, 120)\n",
    "\n",
    "policies = {'player_0': restriction_aware_agent_policy, 'player_1': restriction_aware_agent_policy}"
   ]
  },
  {
   "cell_type": "code",
   "execution_count": null,
   "metadata": {},
   "outputs": [],
   "source": [
    "env = NFGEnvironment(observation_spaces, action_spaces, utilities, 10, render_mode='human')\n",
    "restrictor = NFGRestrictor()\n",
    "wrapper = RestrictionWrapper(env)\n",
    "\n",
    "play(wrapper, policies={**policies, 'restrictor_0': restrictor.act})"
   ]
  }
 ],
 "metadata": {
  "kernelspec": {
   "display_name": ".venv",
   "language": "python",
   "name": "python3"
  },
  "language_info": {
   "codemirror_mode": {
    "name": "ipython",
    "version": 3
   },
   "file_extension": ".py",
   "mimetype": "text/x-python",
   "name": "python",
   "nbconvert_exporter": "python",
   "pygments_lexer": "ipython3",
   "version": "3.11.3"
  },
  "orig_nbformat": 4
 },
 "nbformat": 4,
 "nbformat_minor": 2
}
